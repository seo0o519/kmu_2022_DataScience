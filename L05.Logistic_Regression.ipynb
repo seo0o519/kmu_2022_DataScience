{
  "nbformat": 4,
  "nbformat_minor": 0,
  "metadata": {
    "colab": {
      "provenance": [],
      "collapsed_sections": []
    },
    "kernelspec": {
      "name": "python3",
      "display_name": "Python 3"
    },
    "language_info": {
      "name": "python"
    }
  },
  "cells": [
    {
      "cell_type": "code",
      "execution_count": null,
      "metadata": {
        "colab": {
          "base_uri": "https://localhost:8080/"
        },
        "id": "aZGEeQKXI8g6",
        "outputId": "43acf392-5c46-4158-e4fd-6aafad1d1221"
      },
      "outputs": [
        {
          "output_type": "stream",
          "name": "stdout",
          "text": [
            "W:0.23067331314086914, b:0.029552847146987915, cost:1.3735212087631226\n",
            "W:-1.4446790218353271, b:4.386666774749756, cost:0.42064523696899414\n",
            "W:-1.8947690725326538, b:5.762615203857422, cost:0.3988492786884308\n",
            "W:-2.1718647480010986, b:6.6021294593811035, cost:0.39087727665901184\n",
            "W:-2.3655455112457275, b:7.186230659484863, cost:0.3870384395122528\n",
            "W:-2.509273052215576, b:7.618466854095459, cost:0.3849412500858307\n",
            "W:-2.619725227355957, b:7.950003623962402, cost:0.38370898365974426\n",
            "W:-2.7065629959106445, b:8.210305213928223, cost:0.38294991850852966\n",
            "W:-2.7759251594543457, b:8.418013572692871, cost:0.3824669420719147\n",
            "W:-2.8319761753082275, b:8.585731506347656, cost:0.38215208053588867\n",
            "W:-2.8776659965515137, b:8.722363471984863, cost:0.3819431960582733\n",
            "W:-2.915161609649658, b:8.834439277648926, cost:0.3818027079105377\n",
            "W:-2.9460983276367188, b:8.926874160766602, cost:0.38170719146728516\n",
            "W:-2.971726417541504, b:9.003424644470215, cost:0.38164159655570984\n",
            "W:-2.993030548095703, b:9.067042350769043, cost:0.38159632682800293\n",
            "W:-3.010791540145874, b:9.12006950378418, cost:0.38156482577323914\n",
            "W:-3.0256290435791016, b:9.164361000061035, cost:0.3815429210662842\n",
            "W:-3.0380475521087646, b:9.201425552368164, cost:0.3815275728702545\n",
            "W:-3.0484561920166016, b:9.232487678527832, cost:0.38151681423187256\n",
            "W:-3.057192325592041, b:9.258556365966797, cost:0.3815092146396637\n",
            "W:-3.064532518386841, b:9.280457496643066, cost:0.3815038204193115\n",
            "W:-3.0707037448883057, b:9.298870086669922, cost:0.38150012493133545\n",
            "W:-3.075897216796875, b:9.314364433288574, cost:0.3814973533153534\n",
            "W:-3.080270528793335, b:9.327411651611328, cost:0.3814954459667206\n",
            "W:-3.0839548110961914, b:9.338401794433594, cost:0.38149404525756836\n",
            "W:-3.0870602130889893, b:9.347664833068848, cost:0.3814931809902191\n",
            "W:-3.0896785259246826, b:9.355475425720215, cost:0.3814924955368042\n",
            "W:-3.0918867588043213, b:9.362061500549316, cost:0.38149192929267883\n",
            "W:-3.093749761581421, b:9.367618560791016, cost:0.3814915716648102\n",
            "W:-3.0953221321105957, b:9.372308731079102, cost:0.38149142265319824\n",
            "W:-3.096649646759033, b:9.37626838684082, cost:0.38149121403694153\n"
          ]
        }
      ],
      "source": [
        "import torch\n",
        "x_train = torch.FloatTensor([[1],[2],[3],[4],[5],[2.5],[3.5],[0],[3.1],[2.7],[2.8],[2.9]])\n",
        "y_train = torch.FloatTensor([[1],[1],[1],[0],[0],[0],[0],[1],[0],[1],[1],[1]])\n",
        "\n",
        "W = torch.randn(1,1, requires_grad=True)\n",
        "b = torch.randn(1,1, requires_grad=True)\n",
        "\n",
        "optim = torch.optim.SGD([W,b], lr = 1.0)\n",
        "\n",
        "\n",
        "for epoch in range(3001):\n",
        "  W.requires_grad_(True)\n",
        "  b.requires_grad_(True)\n",
        "\n",
        "  h = torch.sigmoid(torch.mm( x_train, W)+b)\n",
        "  cost = torch.mean(-y_train * torch.log(h) - (1-y_train)*torch.log(1-h))\n",
        "\n",
        "  optim.zero_grad() #W,b 기울기 값 초기화\n",
        "  cost.backward() #기울기 계산\n",
        "  optim.step() # W, b 갱신\n",
        "\n",
        "  with torch.no_grad():\n",
        "    if epoch % 100 == 0:\n",
        "      print(f\"W:{W.item()}, b:{b.item()}, cost:{cost}\")"
      ]
    },
    {
      "cell_type": "code",
      "source": [
        "with torch.no_grad():\n",
        "  x_test = torch.tensor([[4.5],[1.1]])\n",
        "  h_test = torch.sigmoid(torch.mm(x_train, W)+b)\n",
        "  h_test[h_test >0.5] = 1\n",
        "  h_test[h_test <=0.5] = 0\n",
        "  print(h_test)\n"
      ],
      "metadata": {
        "colab": {
          "base_uri": "https://localhost:8080/"
        },
        "id": "A7aqehlBMxXg",
        "outputId": "6e89932a-cb15-4ba1-e872-14bee28b7682"
      },
      "execution_count": null,
      "outputs": [
        {
          "output_type": "stream",
          "name": "stdout",
          "text": [
            "tensor([[1.],\n",
            "        [1.],\n",
            "        [1.],\n",
            "        [0.],\n",
            "        [0.],\n",
            "        [1.],\n",
            "        [0.],\n",
            "        [1.],\n",
            "        [0.],\n",
            "        [1.],\n",
            "        [1.],\n",
            "        [1.]])\n"
          ]
        }
      ]
    },
    {
      "cell_type": "code",
      "source": [
        "h = torch.sigmoid(torch.mm(x.train, W) + b)\n",
        "print(h)\n",
        "print(y_train)\n",
        "cost = torch.mean(-y_train * torch.log(h) - (1-y_train)*torch.log(1-h))"
      ],
      "metadata": {
        "id": "ooCJjc9eLADn"
      },
      "execution_count": null,
      "outputs": []
    },
    {
      "cell_type": "code",
      "source": [
        "import matplotlib.pyplot as plt\n",
        "\n",
        "with torch.no_grad():\n",
        "\n",
        "  plt.scatter(x_train, y_train)\n",
        "  x_tmp = torch.linspace(0,5,100).unsqueeze(1)\n",
        "  y_tmp = torch.sigmoid(torch.mm(x_tmp,W)+b)\n",
        "  plt.plot(x_tmp, y_tmp)\n",
        "  plt.show()\n",
        "\n"
      ],
      "metadata": {
        "colab": {
          "base_uri": "https://localhost:8080/",
          "height": 265
        },
        "id": "izJ7glULPbqU",
        "outputId": "d88ebb69-2a6d-4615-e9bf-c0fe49c4fe53"
      },
      "execution_count": null,
      "outputs": [
        {
          "output_type": "display_data",
          "data": {
            "text/plain": [
              "<Figure size 432x288 with 1 Axes>"
            ],
            "image/png": "[encoded data removed]"
          },
          "metadata": {
            "needs_background": "light"
          }
        }
      ]
    },
    {
      "cell_type": "code",
      "source": [
        "from sklearn.linear_model import LogisticRegression\n",
        "\n",
        "x_train = [[1],[2],[3],[4],[5],[2.5],[3.5],[0],[3.1],[2.7],[2.8],[2.9]]\n",
        "y_train = [1,1,1,0,0,0,0,1,0,1,1,1]\n",
        "\n",
        "model = LogisticRegression(penalty='none')\n",
        "model.fit(x_train, y_train)\n",
        "\n",
        "print(model.coef_, model.intercept_)\n",
        "\n",
        "x_test = [[4.5],[1.1]]\n",
        "test_result = model.predict(x_test)\n",
        "print(test_result)"
      ],
      "metadata": {
        "colab": {
          "base_uri": "https://localhost:8080/"
        },
        "id": "FYC7vucoTkl_",
        "outputId": "11b63770-150f-4c8f-b3fc-e562260821e7"
      },
      "execution_count": null,
      "outputs": [
        {
          "output_type": "stream",
          "name": "stdout",
          "text": [
            "[[-3.10385806]] [9.39776831]\n",
            "[0 1]\n"
          ]
        }
      ]
    }
  ]
}