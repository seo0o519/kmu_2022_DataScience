{
  "nbformat": 4,
  "nbformat_minor": 0,
  "metadata": {
    "colab": {
      "provenance": []
    },
    "kernelspec": {
      "name": "python3",
      "display_name": "Python 3"
    },
    "language_info": {
      "name": "python"
    }
  },
  "cells": [
    {
      "cell_type": "code",
      "execution_count": 22,
      "metadata": {
        "colab": {
          "base_uri": "https://localhost:8080/"
        },
        "id": "3CyuSnn5z7iB",
        "outputId": "82fabece-b7a7-4bc5-d250-d3009432fe80"
      },
      "outputs": [
        {
          "output_type": "stream",
          "name": "stdout",
          "text": [
            "Drive already mounted at /content/gdrive; to attempt to forcibly remount, call drive.mount(\"/content/gdrive\", force_remount=True).\n"
          ]
        }
      ],
      "source": [
        "from google.colab import drive\n",
        "drive.mount('/content/gdrive')"
      ]
    },
    {
      "cell_type": "code",
      "source": [
        "import torch\n",
        "import pandas as pd\n",
        "import torch.nn.functional as F\n",
        "import matplotlib.pyplot as plt\n",
        "import numpy as np"
      ],
      "metadata": {
        "id": "y_xHQOxk1T-c"
      },
      "execution_count": 23,
      "outputs": []
    },
    {
      "cell_type": "code",
      "source": [
        "train = pd.read_csv(\"/content/gdrive/MyDrive/ua.base\", sep=\"\\t\", names=['user', 'movie', 'rating', 'timestamp'])\n",
        "test = pd.read_csv(\"/content/gdrive/MyDrive/ua.test\", sep=\"\\t\", names=['user','movie','rating','timestamp'])"
      ],
      "metadata": {
        "id": "mAdqSLnZ1oWC"
      },
      "execution_count": 25,
      "outputs": []
    },
    {
      "cell_type": "code",
      "source": [
        "items = torch.LongTensor(train['movie'])\n",
        "users = torch.LongTensor(train['user'])\n",
        "ratings = torch.FloatTensor(train['rating'])\n",
        "items_test = torch.LongTensor(test['movie'])\n",
        "users_test = torch.LongTensor(test['user'])\n",
        "ratings_test = torch.FloatTensor(test['rating'])"
      ],
      "metadata": {
        "id": "IC63vWth38BQ"
      },
      "execution_count": 26,
      "outputs": []
    },
    {
      "cell_type": "code",
      "source": [
        "rank = 10\n",
        "numItems = items.max() + 1\n",
        "numUsers = users.max() + 1\n",
        "P = torch.randn(numItems, rank, requires_grad=True)\n",
        "Q = torch.randn(numUsers, rank, requires_grad=True)"
      ],
      "metadata": {
        "id": "rtzThprc4XX4"
      },
      "execution_count": 27,
      "outputs": []
    },
    {
      "cell_type": "code",
      "source": [
        "optimizer = torch.optim.Adam([P, Q], lr=0.1)\n",
        "\n",
        "for epoch in range(1000):\n",
        "  hypothesis = torch.sum(P[items] * Q[users], dim=1)\n",
        "  cost = F.mse_loss(hypothesis, ratings)\n",
        "\n",
        "  optimizer.zero_grad()\n",
        "  cost.backward()\n",
        "  optimizer.step()\n",
        "\n",
        "  if epoch%100==0:\n",
        "    print(\"epoch: {}, cost: {:.6f}\".format(epoch, cost.item()))\n"
      ],
      "metadata": {
        "colab": {
          "base_uri": "https://localhost:8080/"
        },
        "id": "6VQMjVfu48Jc",
        "outputId": "11a6b6bb-33a9-472a-87ae-b6824b9a7d5d"
      },
      "execution_count": 28,
      "outputs": [
        {
          "output_type": "stream",
          "name": "stdout",
          "text": [
            "epoch: 0, cost: 24.017765\n",
            "epoch: 100, cost: 0.560513\n",
            "epoch: 200, cost: 0.491392\n",
            "epoch: 300, cost: 0.469141\n",
            "epoch: 400, cost: 0.459387\n",
            "epoch: 500, cost: 0.453623\n",
            "epoch: 600, cost: 0.449758\n",
            "epoch: 700, cost: 0.447123\n",
            "epoch: 800, cost: 0.445306\n",
            "epoch: 900, cost: 0.443998\n"
          ]
        }
      ]
    },
    {
      "cell_type": "code",
      "source": [
        "P = torch.randn(numItems, rank, requires_grad=True)\n",
        "Q = torch.randn(numUsers, rank, requires_grad=True)\n",
        "optimizer = torch.optim.Adam([P, Q], lr=0.1)\n",
        "X = []\n",
        "Y = []\n",
        "\n",
        "for epoch in range(1000):\n",
        "  hypothesis = torch.sum(P[items] * Q[users], dim=1)\n",
        "  cost = F.mse_loss(hypothesis, ratings)\n",
        "\n",
        "  optimizer.zero_grad()\n",
        "  cost.backward()\n",
        "  optimizer.step()\n",
        "\n",
        "  X.append(epoch)\n",
        "  Y.append(cost.item())\n",
        "  if epoch%100==0:\n",
        "    print(\"epoch: {}, cost: {:.6f}\".format(epoch, cost.item()))\n",
        "    "
      ],
      "metadata": {
        "colab": {
          "base_uri": "https://localhost:8080/"
        },
        "id": "luYjDuut5pPg",
        "outputId": "d36941e7-1a62-4c39-88bd-eacc49cd0a11"
      },
      "execution_count": 31,
      "outputs": [
        {
          "output_type": "stream",
          "name": "stdout",
          "text": [
            "epoch: 0, cost: 23.707016\n",
            "epoch: 100, cost: 0.572420\n",
            "epoch: 200, cost: 0.497982\n",
            "epoch: 300, cost: 0.472041\n",
            "epoch: 400, cost: 0.460150\n",
            "epoch: 500, cost: 0.453560\n",
            "epoch: 600, cost: 0.449536\n",
            "epoch: 700, cost: 0.446896\n",
            "epoch: 800, cost: 0.445031\n",
            "epoch: 900, cost: 0.443576\n"
          ]
        }
      ]
    },
    {
      "cell_type": "code",
      "source": [
        "plt.ylabel(\"MSE\")\n",
        "plt.xlabel(\"Epoch\")\n",
        "plt.plot(X, Y, c=\"blue\", label=\"Training MSE\")\n",
        "plt.legend()\n",
        "plt.show()"
      ],
      "metadata": {
        "colab": {
          "base_uri": "https://localhost:8080/",
          "height": 279
        },
        "id": "3caHSK4L6DEq",
        "outputId": "755e7974-f5bf-44dc-90ed-e2f3fa50c9f6"
      },
      "execution_count": 32,
      "outputs": [
        {
          "output_type": "display_data",
          "data": {
            "text/plain": [
              "<Figure size 432x288 with 1 Axes>"
            ],
            "image/png": "[encoded data removed]"
          },
          "metadata": {
            "needs_background": "light"
          }
        }
      ]
    },
    {
      "cell_type": "code",
      "source": [
        "P = torch.randn(numItems, rank, requires_grad=True)\n",
        "Q = torch.randn(numUsers, rank, requires_grad=True)\n",
        "optimizer = torch.optim.Adam([P, Q], lr=0.1)\n",
        "\n",
        "X = []\n",
        "Y = []\n",
        "Y_test = []\n",
        "for epoch in range(1000):\n",
        "  hypothesis = torch.sum(P[items] * Q[users], dim=1)\n",
        "  cost = F.mse_loss(hypothesis, ratings)\n",
        "\n",
        "  optimizer.zero_grad()\n",
        "  cost.backward()\n",
        "  optimizer.step()\n",
        "  X.append(epoch)\n",
        "  Y.append(cost.item())\n",
        "  with torch.no_grad():\n",
        "    hypo_test = torch.sum(P[items_test] * Q[users_test], dim=1)\n",
        "    cost_test = F.mse_loss(hypo_test, ratings_test)\n",
        "    Y_test.append(cost_test)\n",
        "    if epoch%100==0:\n",
        "      print(\"epoch: {}, cost: {:.6f}\".format(epoch, cost.item()))\n",
        "    "
      ],
      "metadata": {
        "colab": {
          "base_uri": "https://localhost:8080/"
        },
        "id": "o2YniGQG7HYc",
        "outputId": "323d688c-f0fa-42c1-d810-3c7c2b681bd1"
      },
      "execution_count": 33,
      "outputs": [
        {
          "output_type": "stream",
          "name": "stdout",
          "text": [
            "epoch: 0, cost: 23.218737\n",
            "epoch: 100, cost: 0.557762\n",
            "epoch: 200, cost: 0.492262\n",
            "epoch: 300, cost: 0.471018\n",
            "epoch: 400, cost: 0.461366\n",
            "epoch: 500, cost: 0.455675\n",
            "epoch: 600, cost: 0.451907\n",
            "epoch: 700, cost: 0.449196\n",
            "epoch: 800, cost: 0.446976\n",
            "epoch: 900, cost: 0.445344\n"
          ]
        }
      ]
    },
    {
      "cell_type": "code",
      "source": [
        "plt.ylabel(\"MSE\")\n",
        "plt.xlabel(\"Epoch\")\n",
        "plt.plot(X, Y, c=\"blue\", label=\"Training MSE\")\n",
        "plt.plot(X, Y_test, c=\"red\", label=\"Test MSE\")\n",
        "plt.legend()\n",
        "plt.show()"
      ],
      "metadata": {
        "id": "dzppHvRq9j8M",
        "colab": {
          "base_uri": "https://localhost:8080/",
          "height": 279
        },
        "outputId": "4312e5cf-a5e5-40d9-d5e0-f13075b9f59e"
      },
      "execution_count": 34,
      "outputs": [
        {
          "output_type": "display_data",
          "data": {
            "text/plain": [
              "<Figure size 432x288 with 1 Axes>"
            ],
            "image/png": "[encoded data removed]"
          },
          "metadata": {
            "needs_background": "light"
          }
        }
      ]
    },
    {
      "cell_type": "code",
      "source": [
        "lambda1 = 0.0001\n",
        "lambda2 = 0.0001\n",
        "P = torch.randn(numItems, rank, requires_grad=True)\n",
        "Q = torch.randn(numUsers, rank, requires_grad=True)\n",
        "optimizer = torch.optim.Adam([P, Q], lr=0.1)\n",
        "X = []\n",
        "Y = []\n",
        "Y_test = []\n",
        "for epoch in range(1000):\n",
        "  hypothesis = torch.sum(P[items] * Q[users], dim=1)\n",
        "  cost = F.mse_loss(hypothesis, ratings)\n",
        "  loss = cost + lambda1 * torch.sum(P**2) + lambda2 * torch.sum(Q**2)\n",
        "\n",
        "  optimizer.zero_grad()\n",
        "  loss.backward()\n",
        "  optimizer.step()\n",
        "\n",
        "  X.append(epoch)\n",
        "  Y.append(cost.item())\n",
        "  with torch.no_grad():\n",
        "    hypo_test = torch.sum(P[items_test] * Q[users_test], dim=1)\n",
        "    cost_test = F.mse_loss(hypo_test, ratings_test)\n",
        "    Y_test.append(cost_test)\n",
        "  if epoch%100==0:\n",
        "    print(\"epoch: {}, cost: {:.6f}\".format(epoch, cost.item()))"
      ],
      "metadata": {
        "colab": {
          "base_uri": "https://localhost:8080/"
        },
        "id": "Z5ljcVUj9-MI",
        "outputId": "78b8a4f7-9df5-432e-913d-d465402e55f3"
      },
      "execution_count": 39,
      "outputs": [
        {
          "output_type": "stream",
          "name": "stdout",
          "text": [
            "epoch: 0, cost: 23.489431\n",
            "epoch: 100, cost: 0.689260\n",
            "epoch: 200, cost: 0.644231\n",
            "epoch: 300, cost: 0.634384\n",
            "epoch: 400, cost: 0.629845\n",
            "epoch: 500, cost: 0.628073\n",
            "epoch: 600, cost: 0.627447\n",
            "epoch: 700, cost: 0.627161\n",
            "epoch: 800, cost: 0.626987\n",
            "epoch: 900, cost: 0.626852\n"
          ]
        }
      ]
    },
    {
      "cell_type": "code",
      "source": [
        "plt.ylabel(\"MSE\")\n",
        "plt.xlabel(\"Epoch\")\n",
        "plt.plot(X, Y, c=\"blue\", label=\"Training MSE\")\n",
        "plt.plot(X, Y_test, c=\"red\", label=\"Test MSE\")\n",
        "plt.legend()\n",
        "plt.show()"
      ],
      "metadata": {
        "colab": {
          "base_uri": "https://localhost:8080/",
          "height": 279
        },
        "id": "4sh_sI9KNKYC",
        "outputId": "465b71c2-d50c-445c-b15c-602c95c1747a"
      },
      "execution_count": 40,
      "outputs": [
        {
          "output_type": "display_data",
          "data": {
            "text/plain": [
              "<Figure size 432x288 with 1 Axes>"
            ],
            "image/png": "[encoded data removed]"
          },
          "metadata": {
            "needs_background": "light"
          }
        }
      ]
    },
    {
      "cell_type": "code",
      "source": [
        "lambda1 = 0.0001\n",
        "lambda2 = 0.0001\n",
        "lambda3 = 0.001\n",
        "lambda4 = 0.001\n",
        "bias_item = torch.randn(numItems, requires_grad=True)\n",
        "bias_user = torch.randn(numUsers, requires_grad=True)\n",
        "mean = (ratings.sum() / len(ratings)).item()\n",
        "P = torch.randn(numItems, rank, requires_grad=True)\n",
        "Q = torch.randn(numUsers, rank, requires_grad=True)\n",
        "optimizer = torch.optim.Adam([P, Q, bias_item, bias_user], lr=0.1)\n",
        "X = []\n",
        "Y = []\n",
        "Y_test = []\n",
        "for epoch in range(1000):\n",
        "  hypothesis = torch.sum(P[items] * Q[users], dim=1) + mean + bias_item[items] + bias_user[users]\n",
        "  cost = F.mse_loss(hypothesis, ratings)\n",
        "  loss = cost + lambda1 + torch.sum(P**2) + lambda2 * torch.sum(Q**2) + lambda3 * torch.sum(bias_item**2) + lambda4 * torch.sum(bias_user**2)\n",
        "\n",
        "  optimizer.zero_grad()\n",
        "  loss.backward()\n",
        "  optimizer.step()\n",
        "\n",
        "  X.append(epoch)\n",
        "  Y.append(cost.item())\n",
        "  with torch.no_grad():\n",
        "    hypo_test = (P[items_test] * Q[users_test]).sum(dim=1) + mean + bias_user[users_test] + bias_item[items_test]\n",
        "    cost_test = F.mse_loss(hypo_test, ratings_test)\n",
        "    Y_test.append(cost_test)\n",
        "  if epoch%100==0:\n",
        "    print(\"epoch: {}, cost: {:.6f}\".format(epoch, cost.item()))"
      ],
      "metadata": {
        "colab": {
          "base_uri": "https://localhost:8080/"
        },
        "id": "Y2v6ATEbW8qW",
        "outputId": "012163e2-8a9c-43a4-a2a9-75593bf6cc91"
      },
      "execution_count": 46,
      "outputs": [
        {
          "output_type": "stream",
          "name": "stdout",
          "text": [
            "epoch: 0, cost: 13.758552\n",
            "epoch: 100, cost: 0.942085\n",
            "epoch: 200, cost: 0.942061\n",
            "epoch: 300, cost: 0.942060\n",
            "epoch: 400, cost: 0.942060\n",
            "epoch: 500, cost: 0.942060\n",
            "epoch: 600, cost: 0.942060\n",
            "epoch: 700, cost: 0.942060\n",
            "epoch: 800, cost: 0.942060\n",
            "epoch: 900, cost: 0.942060\n"
          ]
        }
      ]
    },
    {
      "cell_type": "code",
      "source": [
        "plt.ylabel(\"MSE\")\n",
        "plt.xlabel(\"Epoch\")\n",
        "plt.plot(X, Y, c=\"blue\", label=\"Training MSE\")\n",
        "plt.plot(X, Y_test, c=\"red\", label=\"Test MSE\")\n",
        "plt.legend()\n",
        "plt.show()"
      ],
      "metadata": {
        "colab": {
          "base_uri": "https://localhost:8080/",
          "height": 279
        },
        "id": "FUEMfBX_Xd7n",
        "outputId": "659cf914-5240-4864-f137-a2032b2788d5"
      },
      "execution_count": 47,
      "outputs": [
        {
          "output_type": "display_data",
          "data": {
            "text/plain": [
              "<Figure size 432x288 with 1 Axes>"
            ],
            "image/png": "[encoded data removed]"
          },
          "metadata": {
            "needs_background": "light"
          }
        }
      ]
    }
  ]
}