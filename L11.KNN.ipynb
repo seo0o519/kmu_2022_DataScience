{
  "nbformat": 4,
  "nbformat_minor": 0,
  "metadata": {
    "colab": {
      "provenance": []
    },
    "kernelspec": {
      "name": "python3",
      "display_name": "Python 3"
    },
    "language_info": {
      "name": "python"
    }
  },
  "cells": [
    {
      "cell_type": "code",
      "execution_count": null,
      "metadata": {
        "id": "vsKjOKhb-Ix9"
      },
      "outputs": [],
      "source": [
        "import matplotlib.pyplot as plt\n",
        "import random\n",
        "from tqdm import tqdm\n",
        "import pandas as pd"
      ]
    },
    {
      "cell_type": "code",
      "source": [
        "from google.colab import drive\n",
        "drive.mount('/content/gdrive')"
      ],
      "metadata": {
        "colab": {
          "base_uri": "https://localhost:8080/"
        },
        "id": "g0MRPCQx-b-9",
        "outputId": "8387db89-ceb1-46e7-f183-3980ae047162"
      },
      "execution_count": null,
      "outputs": [
        {
          "output_type": "stream",
          "name": "stdout",
          "text": [
            "Mounted at /content/gdrive\n"
          ]
        }
      ]
    },
    {
      "cell_type": "code",
      "source": [
        "data=[]\n",
        "for line in open('/content/gdrive/MyDrive/iris.data', 'r'):\n",
        "  raw = line.split(\",\")\n",
        "  x = [float(r) for r in raw[:4]]\n",
        "  y = raw[4].strip()\n",
        "  data.append((x,y))\n",
        "data"
      ],
      "metadata": {
        "colab": {
          "base_uri": "https://localhost:8080/"
        },
        "id": "khhonlz2ARuN",
        "outputId": "492a286b-0d08-4584-f0b5-4cb962cc2aab"
      },
      "execution_count": null,
      "outputs": [
        {
          "output_type": "execute_result",
          "data": {
            "text/plain": [
              "[([5.1, 3.5, 1.4, 0.2], 'Iris-setosa'),\n",
              " ([4.9, 3.0, 1.4, 0.2], 'Iris-setosa'),\n",
              " ([4.7, 3.2, 1.3, 0.2], 'Iris-setosa'),\n",
              " ([4.6, 3.1, 1.5, 0.2], 'Iris-setosa'),\n",
              " ([5.0, 3.6, 1.4, 0.2], 'Iris-setosa'),\n",
              " ([5.4, 3.9, 1.7, 0.4], 'Iris-setosa'),\n",
              " ([4.6, 3.4, 1.4, 0.3], 'Iris-setosa'),\n",
              " ([5.0, 3.4, 1.5, 0.2], 'Iris-setosa'),\n",
              " ([4.4, 2.9, 1.4, 0.2], 'Iris-setosa'),\n",
              " ([4.9, 3.1, 1.5, 0.1], 'Iris-setosa'),\n",
              " ([5.4, 3.7, 1.5, 0.2], 'Iris-setosa'),\n",
              " ([4.8, 3.4, 1.6, 0.2], 'Iris-setosa'),\n",
              " ([4.8, 3.0, 1.4, 0.1], 'Iris-setosa'),\n",
              " ([4.3, 3.0, 1.1, 0.1], 'Iris-setosa'),\n",
              " ([5.8, 4.0, 1.2, 0.2], 'Iris-setosa'),\n",
              " ([5.7, 4.4, 1.5, 0.4], 'Iris-setosa'),\n",
              " ([5.4, 3.9, 1.3, 0.4], 'Iris-setosa'),\n",
              " ([5.1, 3.5, 1.4, 0.3], 'Iris-setosa'),\n",
              " ([5.7, 3.8, 1.7, 0.3], 'Iris-setosa'),\n",
              " ([5.1, 3.8, 1.5, 0.3], 'Iris-setosa'),\n",
              " ([5.4, 3.4, 1.7, 0.2], 'Iris-setosa'),\n",
              " ([5.1, 3.7, 1.5, 0.4], 'Iris-setosa'),\n",
              " ([4.6, 3.6, 1.0, 0.2], 'Iris-setosa'),\n",
              " ([5.1, 3.3, 1.7, 0.5], 'Iris-setosa'),\n",
              " ([4.8, 3.4, 1.9, 0.2], 'Iris-setosa'),\n",
              " ([5.0, 3.0, 1.6, 0.2], 'Iris-setosa'),\n",
              " ([5.0, 3.4, 1.6, 0.4], 'Iris-setosa'),\n",
              " ([5.2, 3.5, 1.5, 0.2], 'Iris-setosa'),\n",
              " ([5.2, 3.4, 1.4, 0.2], 'Iris-setosa'),\n",
              " ([4.7, 3.2, 1.6, 0.2], 'Iris-setosa'),\n",
              " ([4.8, 3.1, 1.6, 0.2], 'Iris-setosa'),\n",
              " ([5.4, 3.4, 1.5, 0.4], 'Iris-setosa'),\n",
              " ([5.2, 4.1, 1.5, 0.1], 'Iris-setosa'),\n",
              " ([5.5, 4.2, 1.4, 0.2], 'Iris-setosa'),\n",
              " ([4.9, 3.1, 1.5, 0.1], 'Iris-setosa'),\n",
              " ([5.0, 3.2, 1.2, 0.2], 'Iris-setosa'),\n",
              " ([5.5, 3.5, 1.3, 0.2], 'Iris-setosa'),\n",
              " ([4.9, 3.1, 1.5, 0.1], 'Iris-setosa'),\n",
              " ([4.4, 3.0, 1.3, 0.2], 'Iris-setosa'),\n",
              " ([5.1, 3.4, 1.5, 0.2], 'Iris-setosa'),\n",
              " ([5.0, 3.5, 1.3, 0.3], 'Iris-setosa'),\n",
              " ([4.5, 2.3, 1.3, 0.3], 'Iris-setosa'),\n",
              " ([4.4, 3.2, 1.3, 0.2], 'Iris-setosa'),\n",
              " ([5.0, 3.5, 1.6, 0.6], 'Iris-setosa'),\n",
              " ([5.1, 3.8, 1.9, 0.4], 'Iris-setosa'),\n",
              " ([4.8, 3.0, 1.4, 0.3], 'Iris-setosa'),\n",
              " ([5.1, 3.8, 1.6, 0.2], 'Iris-setosa'),\n",
              " ([4.6, 3.2, 1.4, 0.2], 'Iris-setosa'),\n",
              " ([5.3, 3.7, 1.5, 0.2], 'Iris-setosa'),\n",
              " ([5.0, 3.3, 1.4, 0.2], 'Iris-setosa'),\n",
              " ([7.0, 3.2, 4.7, 1.4], 'Iris-versicolor'),\n",
              " ([6.4, 3.2, 4.5, 1.5], 'Iris-versicolor'),\n",
              " ([6.9, 3.1, 4.9, 1.5], 'Iris-versicolor'),\n",
              " ([5.5, 2.3, 4.0, 1.3], 'Iris-versicolor'),\n",
              " ([6.5, 2.8, 4.6, 1.5], 'Iris-versicolor'),\n",
              " ([5.7, 2.8, 4.5, 1.3], 'Iris-versicolor'),\n",
              " ([6.3, 3.3, 4.7, 1.6], 'Iris-versicolor'),\n",
              " ([4.9, 2.4, 3.3, 1.0], 'Iris-versicolor'),\n",
              " ([6.6, 2.9, 4.6, 1.3], 'Iris-versicolor'),\n",
              " ([5.2, 2.7, 3.9, 1.4], 'Iris-versicolor'),\n",
              " ([5.0, 2.0, 3.5, 1.0], 'Iris-versicolor'),\n",
              " ([5.9, 3.0, 4.2, 1.5], 'Iris-versicolor'),\n",
              " ([6.0, 2.2, 4.0, 1.0], 'Iris-versicolor'),\n",
              " ([6.1, 2.9, 4.7, 1.4], 'Iris-versicolor'),\n",
              " ([5.6, 2.9, 3.6, 1.3], 'Iris-versicolor'),\n",
              " ([6.7, 3.1, 4.4, 1.4], 'Iris-versicolor'),\n",
              " ([5.6, 3.0, 4.5, 1.5], 'Iris-versicolor'),\n",
              " ([5.8, 2.7, 4.1, 1.0], 'Iris-versicolor'),\n",
              " ([6.2, 2.2, 4.5, 1.5], 'Iris-versicolor'),\n",
              " ([5.6, 2.5, 3.9, 1.1], 'Iris-versicolor'),\n",
              " ([5.9, 3.2, 4.8, 1.8], 'Iris-versicolor'),\n",
              " ([6.1, 2.8, 4.0, 1.3], 'Iris-versicolor'),\n",
              " ([6.3, 2.5, 4.9, 1.5], 'Iris-versicolor'),\n",
              " ([6.1, 2.8, 4.7, 1.2], 'Iris-versicolor'),\n",
              " ([6.4, 2.9, 4.3, 1.3], 'Iris-versicolor'),\n",
              " ([6.6, 3.0, 4.4, 1.4], 'Iris-versicolor'),\n",
              " ([6.8, 2.8, 4.8, 1.4], 'Iris-versicolor'),\n",
              " ([6.7, 3.0, 5.0, 1.7], 'Iris-versicolor'),\n",
              " ([6.0, 2.9, 4.5, 1.5], 'Iris-versicolor'),\n",
              " ([5.7, 2.6, 3.5, 1.0], 'Iris-versicolor'),\n",
              " ([5.5, 2.4, 3.8, 1.1], 'Iris-versicolor'),\n",
              " ([5.5, 2.4, 3.7, 1.0], 'Iris-versicolor'),\n",
              " ([5.8, 2.7, 3.9, 1.2], 'Iris-versicolor'),\n",
              " ([6.0, 2.7, 5.1, 1.6], 'Iris-versicolor'),\n",
              " ([5.4, 3.0, 4.5, 1.5], 'Iris-versicolor'),\n",
              " ([6.0, 3.4, 4.5, 1.6], 'Iris-versicolor'),\n",
              " ([6.7, 3.1, 4.7, 1.5], 'Iris-versicolor'),\n",
              " ([6.3, 2.3, 4.4, 1.3], 'Iris-versicolor'),\n",
              " ([5.6, 3.0, 4.1, 1.3], 'Iris-versicolor'),\n",
              " ([5.5, 2.5, 4.0, 1.3], 'Iris-versicolor'),\n",
              " ([5.5, 2.6, 4.4, 1.2], 'Iris-versicolor'),\n",
              " ([6.1, 3.0, 4.6, 1.4], 'Iris-versicolor'),\n",
              " ([5.8, 2.6, 4.0, 1.2], 'Iris-versicolor'),\n",
              " ([5.0, 2.3, 3.3, 1.0], 'Iris-versicolor'),\n",
              " ([5.6, 2.7, 4.2, 1.3], 'Iris-versicolor'),\n",
              " ([5.7, 3.0, 4.2, 1.2], 'Iris-versicolor'),\n",
              " ([5.7, 2.9, 4.2, 1.3], 'Iris-versicolor'),\n",
              " ([6.2, 2.9, 4.3, 1.3], 'Iris-versicolor'),\n",
              " ([5.1, 2.5, 3.0, 1.1], 'Iris-versicolor'),\n",
              " ([5.7, 2.8, 4.1, 1.3], 'Iris-versicolor'),\n",
              " ([6.3, 3.3, 6.0, 2.5], 'Iris-virginica'),\n",
              " ([5.8, 2.7, 5.1, 1.9], 'Iris-virginica'),\n",
              " ([7.1, 3.0, 5.9, 2.1], 'Iris-virginica'),\n",
              " ([6.3, 2.9, 5.6, 1.8], 'Iris-virginica'),\n",
              " ([6.5, 3.0, 5.8, 2.2], 'Iris-virginica'),\n",
              " ([7.6, 3.0, 6.6, 2.1], 'Iris-virginica'),\n",
              " ([4.9, 2.5, 4.5, 1.7], 'Iris-virginica'),\n",
              " ([7.3, 2.9, 6.3, 1.8], 'Iris-virginica'),\n",
              " ([6.7, 2.5, 5.8, 1.8], 'Iris-virginica'),\n",
              " ([7.2, 3.6, 6.1, 2.5], 'Iris-virginica'),\n",
              " ([6.5, 3.2, 5.1, 2.0], 'Iris-virginica'),\n",
              " ([6.4, 2.7, 5.3, 1.9], 'Iris-virginica'),\n",
              " ([6.8, 3.0, 5.5, 2.1], 'Iris-virginica'),\n",
              " ([5.7, 2.5, 5.0, 2.0], 'Iris-virginica'),\n",
              " ([5.8, 2.8, 5.1, 2.4], 'Iris-virginica'),\n",
              " ([6.4, 3.2, 5.3, 2.3], 'Iris-virginica'),\n",
              " ([6.5, 3.0, 5.5, 1.8], 'Iris-virginica'),\n",
              " ([7.7, 3.8, 6.7, 2.2], 'Iris-virginica'),\n",
              " ([7.7, 2.6, 6.9, 2.3], 'Iris-virginica'),\n",
              " ([6.0, 2.2, 5.0, 1.5], 'Iris-virginica'),\n",
              " ([6.9, 3.2, 5.7, 2.3], 'Iris-virginica'),\n",
              " ([5.6, 2.8, 4.9, 2.0], 'Iris-virginica'),\n",
              " ([7.7, 2.8, 6.7, 2.0], 'Iris-virginica'),\n",
              " ([6.3, 2.7, 4.9, 1.8], 'Iris-virginica'),\n",
              " ([6.7, 3.3, 5.7, 2.1], 'Iris-virginica'),\n",
              " ([7.2, 3.2, 6.0, 1.8], 'Iris-virginica'),\n",
              " ([6.2, 2.8, 4.8, 1.8], 'Iris-virginica'),\n",
              " ([6.1, 3.0, 4.9, 1.8], 'Iris-virginica'),\n",
              " ([6.4, 2.8, 5.6, 2.1], 'Iris-virginica'),\n",
              " ([7.2, 3.0, 5.8, 1.6], 'Iris-virginica'),\n",
              " ([7.4, 2.8, 6.1, 1.9], 'Iris-virginica'),\n",
              " ([7.9, 3.8, 6.4, 2.0], 'Iris-virginica'),\n",
              " ([6.4, 2.8, 5.6, 2.2], 'Iris-virginica'),\n",
              " ([6.3, 2.8, 5.1, 1.5], 'Iris-virginica'),\n",
              " ([6.1, 2.6, 5.6, 1.4], 'Iris-virginica'),\n",
              " ([7.7, 3.0, 6.1, 2.3], 'Iris-virginica'),\n",
              " ([6.3, 3.4, 5.6, 2.4], 'Iris-virginica'),\n",
              " ([6.4, 3.1, 5.5, 1.8], 'Iris-virginica'),\n",
              " ([6.0, 3.0, 4.8, 1.8], 'Iris-virginica'),\n",
              " ([6.9, 3.1, 5.4, 2.1], 'Iris-virginica'),\n",
              " ([6.7, 3.1, 5.6, 2.4], 'Iris-virginica'),\n",
              " ([6.9, 3.1, 5.1, 2.3], 'Iris-virginica'),\n",
              " ([5.8, 2.7, 5.1, 1.9], 'Iris-virginica'),\n",
              " ([6.8, 3.2, 5.9, 2.3], 'Iris-virginica'),\n",
              " ([6.7, 3.3, 5.7, 2.5], 'Iris-virginica'),\n",
              " ([6.7, 3.0, 5.2, 2.3], 'Iris-virginica'),\n",
              " ([6.3, 2.5, 5.0, 1.9], 'Iris-virginica'),\n",
              " ([6.5, 3.0, 5.2, 2.0], 'Iris-virginica'),\n",
              " ([6.2, 3.4, 5.4, 2.3], 'Iris-virginica'),\n",
              " ([5.9, 3.0, 5.1, 1.8], 'Iris-virginica')]"
            ]
          },
          "metadata": {},
          "execution_count": 3
        }
      ]
    },
    {
      "cell_type": "code",
      "source": [
        "classes = {l:[] for v,l in data} # iris 종류\n",
        "# classes = {'Iris-setosa': [], 'Iris-versicolor': [], 'Iris-virginica': []} 형태의 dict\n",
        "\n",
        "for v, l in data:\n",
        "  classes[l].append(v)\n",
        "\n",
        "for c, c_data in classes.items():\n",
        "  # c:Iris-setosa 외 2개\n",
        "  # c_data : [[5.1, 3.5, 1.4, 0.2], [4.9, 3.0, 1.4, 0.2], ..... [5.0, 3.3, 1.4, 0.2]] 외 2개\n",
        "\n",
        "  X = []\n",
        "  Y = []  \n",
        "  for v in c_data:\n",
        "    X.append(v[0])\n",
        "    Y.append(v[1])\n",
        "\n",
        "  plt.scatter(X,Y,alpha=0.5)\n",
        "\n",
        "plt.show()"
      ],
      "metadata": {
        "colab": {
          "base_uri": "https://localhost:8080/",
          "height": 268
        },
        "id": "kS6a4GzlsMeP",
        "outputId": "72e4cf65-9ae3-4bd0-a4ff-89012ee3091f"
      },
      "execution_count": null,
      "outputs": [
        {
          "output_type": "display_data",
          "data": {
            "text/plain": [
              "<Figure size 432x288 with 1 Axes>"
            ],
            "image/png": "[encoded data removed]"
          },
          "metadata": {
            "needs_background": "light"
          }
        }
      ]
    },
    {
      "cell_type": "code",
      "source": [
        "#두 점 사이의 거리 구하는 함수\n",
        "# a = [6.4, 2.8, 5.6, 2.2]\n",
        "# b = [5.9, 3.0, 5.1, 1.8] 이런 식의 파라미터\n",
        "def distance(a,b):\n",
        "   return sum((x-y)**2 for x,y in zip(a,b))**0.5"
      ],
      "metadata": {
        "id": "kFlsRpH6xH6t"
      },
      "execution_count": null,
      "outputs": []
    },
    {
      "cell_type": "code",
      "source": [
        "from collections import Counter\n",
        "# counter : list에서 어떤 원소가 몇 번 나왔는지 dict 형태로 알려줌\n",
        "\n",
        "#query점과 모든 벡터들의 거리 구해서 가장 가까운 k개의 점 구하고, 클러스터 리턴\n",
        "def knn_classify(k, query, data):\n",
        "  while(True):\n",
        "    dists = [(distance(query,v),l) for v,l in data] #거리 구하고\n",
        "    # dists = [(3.5,Iris-setosa), (34.8, Iris-virginica), ...., (5.7, Iris-setosa)]\n",
        "\n",
        "    dists.sort() #거리순으로 정렬해서\n",
        "    # dists = [(3.5,Iris-setosa), (5.7, Iris-setosa), ....., (34.8, Iris-virginica)]\n",
        "\n",
        "    topk = dists[:k] #가장 가까운 k(=3)개 뽑기\n",
        "    #topk = [(3.5,Iris-setosa), (5.7, Iris-setosa), (5.9, Iris-Iris-versicolor)]\n",
        "\n",
        "    cnts = Counter(l for d,l in topk) \n",
        "    #cnts = { Iris-setosa:2, Iris-versicolor:1 }\n",
        "\n",
        "    mc = cnts.most_common(2) #가장 많은 거 2개를 가져오라는 뜻\n",
        "    #mc = [('Iris-setosa', 2), (Iris-versicolor, 1)]\n",
        "\n",
        "    if len(cnts) == 1 or mc[0][1]!=mc[1][1]:\n",
        "      break\n",
        "    else:\n",
        "      k=-1\n",
        "  return cnts.most_common(1)[0][0]\n",
        "k = 3\n",
        "res = knn_classify(k,[6.4,2.8,5.6,2.2], data)\n",
        "print(res)"
      ],
      "metadata": {
        "colab": {
          "base_uri": "https://localhost:8080/"
        },
        "id": "nBA_il13x0Uf",
        "outputId": "a4177f52-1114-4b03-e55b-7a6d2ff310f5"
      },
      "execution_count": null,
      "outputs": [
        {
          "output_type": "stream",
          "name": "stdout",
          "text": [
            "Iris-virginica\n"
          ]
        }
      ]
    },
    {
      "cell_type": "code",
      "source": [
        "k = 3\n",
        "n_correct = 0\n",
        "n_incorrect = 0\n",
        "\n",
        "for i,(v,l) in enumerate(data):\n",
        "  new_data = []\n",
        "  for j,d in enumerate(data):\n",
        "    if i==j : continue\n",
        "    new_data.append(d)\n",
        "  ans = knn_classify(k,v,new_data)\n",
        "  if l==ans:\n",
        "    n_correct += 1\n",
        "  else:\n",
        "    n_incorrect += 1\n",
        "print(\"accuracy\", n_correct /(n_correct + n_incorrect))\n"
      ],
      "metadata": {
        "colab": {
          "base_uri": "https://localhost:8080/"
        },
        "id": "cWvBZLKE9v90",
        "outputId": "694acd7c-a582-4217-be72-9df270f9bc52"
      },
      "execution_count": null,
      "outputs": [
        {
          "output_type": "stream",
          "name": "stdout",
          "text": [
            "accuracy 0.96\n"
          ]
        }
      ]
    },
    {
      "cell_type": "code",
      "source": [
        "X = []\n",
        "Y = []\n",
        "for k in range(1,50):\n",
        "  n_correct = 0\n",
        "  n_incorrect = 0\n",
        "  for i,(v,l) in enumerate(data):\n",
        "    new_data = []\n",
        "    for j,d in enumerate(data):\n",
        "      if i==j : continue\n",
        "      new_data.append(d)\n",
        "    ans = knn_classify(k,v,new_data)\n",
        "    if l==ans:\n",
        "      n_correct += 1\n",
        "    else:\n",
        "      n_incorrect += 1\n",
        "  accuracy = n_correct /(n_correct + n_incorrect)\n",
        "  X.append(k)\n",
        "  Y.append(accuracy)\n",
        "\n",
        "plt.plot(X,Y)\n",
        "plt.show()"
      ],
      "metadata": {
        "colab": {
          "base_uri": "https://localhost:8080/",
          "height": 265
        },
        "id": "xNPmnJqFAUBA",
        "outputId": "36bfd8ea-3325-4908-fdab-c78256b468ff"
      },
      "execution_count": null,
      "outputs": [
        {
          "output_type": "display_data",
          "data": {
            "text/plain": [
              "<Figure size 432x288 with 1 Axes>"
            ],
            "image/png": "[encoded data removed]"
          },
          "metadata": {
            "needs_background": "light"
          }
        }
      ]
    }
  ]
}