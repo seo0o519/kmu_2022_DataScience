{
  "nbformat": 4,
  "nbformat_minor": 0,
  "metadata": {
    "colab": {
      "provenance": [],
      "collapsed_sections": []
    },
    "kernelspec": {
      "name": "python3",
      "display_name": "Python 3"
    },
    "language_info": {
      "name": "python"
    }
  },
  "cells": [
    {
      "cell_type": "code",
      "execution_count": 2,
      "metadata": {
        "id": "TzpaP0tTwxCc"
      },
      "outputs": [],
      "source": [
        "import pandas as pd\n",
        "import matplotlib.pyplot as plt\n",
        "import numpy as np\n",
        "from collections import Counter\n",
        "import torch\n",
        "from sklearn.linear_model import LinearRegression\n",
        "from sklearn.linear_model import LogisticRegression\n",
        "import sys"
      ]
    },
    {
      "cell_type": "code",
      "source": [
        "from google.colab import files\n",
        "f = files.upload()"
      ],
      "metadata": {
        "colab": {
          "base_uri": "https://localhost:8080/",
          "height": 77
        },
        "id": "ch4jqeICwz8N",
        "outputId": "89e50cb1-d922-46c5-8e1f-36f862f1c742"
      },
      "execution_count": 1,
      "outputs": [
        {
          "output_type": "display_data",
          "data": {
            "text/plain": [
              "<IPython.core.display.HTML object>"
            ],
            "text/html": [
              "\n",
              "     <input type=\"file\" id=\"files-cb2f722e-5f22-4071-ad9b-3faaacbd3860\" name=\"files[]\" multiple disabled\n",
              "        style=\"border:none\" />\n",
              "     <output id=\"result-cb2f722e-5f22-4071-ad9b-3faaacbd3860\">\n",
              "      Upload widget is only available when the cell has been executed in the\n",
              "      current browser session. Please rerun this cell to enable.\n",
              "      </output>\n",
              "      <script>// Copyright 2017 Google LLC\n",
              "//\n",
              "// Licensed under the Apache License, Version 2.0 (the \"License\");\n",
              "// you may not use this file except in compliance with the License.\n",
              "// You may obtain a copy of the License at\n",
              "//\n",
              "//      http://www.apache.org/licenses/LICENSE-2.0\n",
              "//\n",
              "// Unless required by applicable law or agreed to in writing, software\n",
              "// distributed under the License is distributed on an \"AS IS\" BASIS,\n",
              "// WITHOUT WARRANTIES OR CONDITIONS OF ANY KIND, either express or implied.\n",
              "// See the License for the specific language governing permissions and\n",
              "// limitations under the License.\n",
              "\n",
              "/**\n",
              " * @fileoverview Helpers for google.colab Python module.\n",
              " */\n",
              "(function(scope) {\n",
              "function span(text, styleAttributes = {}) {\n",
              "  const element = document.createElement('span');\n",
              "  element.textContent = text;\n",
              "  for (const key of Object.keys(styleAttributes)) {\n",
              "    element.style[key] = styleAttributes[key];\n",
              "  }\n",
              "  return element;\n",
              "}\n",
              "\n",
              "// Max number of bytes which will be uploaded at a time.\n",
              "const MAX_PAYLOAD_SIZE = 100 * 1024;\n",
              "\n",
              "function _uploadFiles(inputId, outputId) {\n",
              "  const steps = uploadFilesStep(inputId, outputId);\n",
              "  const outputElement = document.getElementById(outputId);\n",
              "  // Cache steps on the outputElement to make it available for the next call\n",
              "  // to uploadFilesContinue from Python.\n",
              "  outputElement.steps = steps;\n",
              "\n",
              "  return _uploadFilesContinue(outputId);\n",
              "}\n",
              "\n",
              "// This is roughly an async generator (not supported in the browser yet),\n",
              "// where there are multiple asynchronous steps and the Python side is going\n",
              "// to poll for completion of each step.\n",
              "// This uses a Promise to block the python side on completion of each step,\n",
              "// then passes the result of the previous step as the input to the next step.\n",
              "function _uploadFilesContinue(outputId) {\n",
              "  const outputElement = document.getElementById(outputId);\n",
              "  const steps = outputElement.steps;\n",
              "\n",
              "  const next = steps.next(outputElement.lastPromiseValue);\n",
              "  return Promise.resolve(next.value.promise).then((value) => {\n",
              "    // Cache the last promise value to make it available to the next\n",
              "    // step of the generator.\n",
              "    outputElement.lastPromiseValue = value;\n",
              "    return next.value.response;\n",
              "  });\n",
              "}\n",
              "\n",
              "/**\n",
              " * Generator function which is called between each async step of the upload\n",
              " * process.\n",
              " * @param {string} inputId Element ID of the input file picker element.\n",
              " * @param {string} outputId Element ID of the output display.\n",
              " * @return {!Iterable<!Object>} Iterable of next steps.\n",
              " */\n",
              "function* uploadFilesStep(inputId, outputId) {\n",
              "  const inputElement = document.getElementById(inputId);\n",
              "  inputElement.disabled = false;\n",
              "\n",
              "  const outputElement = document.getElementById(outputId);\n",
              "  outputElement.innerHTML = '';\n",
              "\n",
              "  const pickedPromise = new Promise((resolve) => {\n",
              "    inputElement.addEventListener('change', (e) => {\n",
              "      resolve(e.target.files);\n",
              "    });\n",
              "  });\n",
              "\n",
              "  const cancel = document.createElement('button');\n",
              "  inputElement.parentElement.appendChild(cancel);\n",
              "  cancel.textContent = 'Cancel upload';\n",
              "  const cancelPromise = new Promise((resolve) => {\n",
              "    cancel.onclick = () => {\n",
              "      resolve(null);\n",
              "    };\n",
              "  });\n",
              "\n",
              "  // Wait for the user to pick the files.\n",
              "  const files = yield {\n",
              "    promise: Promise.race([pickedPromise, cancelPromise]),\n",
              "    response: {\n",
              "      action: 'starting',\n",
              "    }\n",
              "  };\n",
              "\n",
              "  cancel.remove();\n",
              "\n",
              "  // Disable the input element since further picks are not allowed.\n",
              "  inputElement.disabled = true;\n",
              "\n",
              "  if (!files) {\n",
              "    return {\n",
              "      response: {\n",
              "        action: 'complete',\n",
              "      }\n",
              "    };\n",
              "  }\n",
              "\n",
              "  for (const file of files) {\n",
              "    const li = document.createElement('li');\n",
              "    li.append(span(file.name, {fontWeight: 'bold'}));\n",
              "    li.append(span(\n",
              "        `(${file.type || 'n/a'}) - ${file.size} bytes, ` +\n",
              "        `last modified: ${\n",
              "            file.lastModifiedDate ? file.lastModifiedDate.toLocaleDateString() :\n",
              "                                    'n/a'} - `));\n",
              "    const percent = span('0% done');\n",
              "    li.appendChild(percent);\n",
              "\n",
              "    outputElement.appendChild(li);\n",
              "\n",
              "    const fileDataPromise = new Promise((resolve) => {\n",
              "      const reader = new FileReader();\n",
              "      reader.onload = (e) => {\n",
              "        resolve(e.target.result);\n",
              "      };\n",
              "      reader.readAsArrayBuffer(file);\n",
              "    });\n",
              "    // Wait for the data to be ready.\n",
              "    let fileData = yield {\n",
              "      promise: fileDataPromise,\n",
              "      response: {\n",
              "        action: 'continue',\n",
              "      }\n",
              "    };\n",
              "\n",
              "    // Use a chunked sending to avoid message size limits. See b/62115660.\n",
              "    let position = 0;\n",
              "    do {\n",
              "      const length = Math.min(fileData.byteLength - position, MAX_PAYLOAD_SIZE);\n",
              "      const chunk = new Uint8Array(fileData, position, length);\n",
              "      position += length;\n",
              "\n",
              "      const base64 = btoa(String.fromCharCode.apply(null, chunk));\n",
              "      yield {\n",
              "        response: {\n",
              "          action: 'append',\n",
              "          file: file.name,\n",
              "          data: base64,\n",
              "        },\n",
              "      };\n",
              "\n",
              "      let percentDone = fileData.byteLength === 0 ?\n",
              "          100 :\n",
              "          Math.round((position / fileData.byteLength) * 100);\n",
              "      percent.textContent = `${percentDone}% done`;\n",
              "\n",
              "    } while (position < fileData.byteLength);\n",
              "  }\n",
              "\n",
              "  // All done.\n",
              "  yield {\n",
              "    response: {\n",
              "      action: 'complete',\n",
              "    }\n",
              "  };\n",
              "}\n",
              "\n",
              "scope.google = scope.google || {};\n",
              "scope.google.colab = scope.google.colab || {};\n",
              "scope.google.colab._files = {\n",
              "  _uploadFiles,\n",
              "  _uploadFilesContinue,\n",
              "};\n",
              "})(self);\n",
              "</script> "
            ]
          },
          "metadata": {}
        },
        {
          "output_type": "stream",
          "name": "stdout",
          "text": [
            "Saving mid_animal_data_pub.pkl to mid_animal_data_pub.pkl\n"
          ]
        }
      ]
    },
    {
      "cell_type": "code",
      "source": [
        "data = pd.read_csv('/content/gts-seoul.csv',encoding='utf-8')\n",
        "tmp = data[data[\"일시\"] == \"2011-03-21 06:00\"]\n",
        "tmp[[\"습도\",\"풍속\",'현지기압','기온','이슬점 온도']].sum(axis=1)"
      ],
      "metadata": {
        "colab": {
          "base_uri": "https://localhost:8080/"
        },
        "id": "RZaYz5AsxCuA",
        "outputId": "25559ef2-a763-4993-8e0b-c8c6c3f389b1"
      },
      "execution_count": null,
      "outputs": [
        {
          "output_type": "execute_result",
          "data": {
            "text/plain": [
              "2101    1038.9\n",
              "dtype: float64"
            ]
          },
          "metadata": {},
          "execution_count": 6
        }
      ]
    },
    {
      "cell_type": "code",
      "source": [
        "data = data[[\"습도\",\"풍속\",'현지기압','기온','이슬점 온도']]\n",
        "data = data.dropna()\n",
        "\n",
        "a = len(data) #행의 수\n",
        "b = data['습도'].mean()\n",
        "c = data['풍속'].max()\n",
        "d = data['기온'].min()\n",
        "print(a+b+c+d)"
      ],
      "metadata": {
        "colab": {
          "base_uri": "https://localhost:8080/"
        },
        "id": "u-CUcIGaybZR",
        "outputId": "b8e4289e-4e63-48f0-c07e-a8a932d56439"
      },
      "execution_count": null,
      "outputs": [
        {
          "output_type": "stream",
          "name": "stdout",
          "text": [
            "32128.421619683173\n"
          ]
        }
      ]
    },
    {
      "cell_type": "code",
      "source": [
        "def corr(a,b):\n",
        "  a = a - a.mean()\n",
        "  b = b - b.mean()\n",
        "\n",
        "  #cosine similarity = (a*b)/|a||b|\n",
        "  return (a*b).sum() / (((a*a).sum()**0.5) * ((b*b).sum()**0.5))\n",
        "\n",
        "#습도 풍속 현지기압 기온\n",
        "a = corr(data[\"습도\"], data[\"이슬점 온도\"])\n",
        "b = corr(data[\"풍속\"], data[\"이슬점 온도\"])\n",
        "c = corr(data[\"현지기압\"], data[\"이슬점 온도\"])\n",
        "d = corr(data[\"기온\"], data[\"이슬점 온도\"])\n",
        "print(a,b,c,d)\n",
        "print(a+b+c+d)"
      ],
      "metadata": {
        "colab": {
          "base_uri": "https://localhost:8080/"
        },
        "id": "swk_gMdTzv3F",
        "outputId": "d7be259f-0577-4b7e-fc64-c320abba4752"
      },
      "execution_count": null,
      "outputs": [
        {
          "output_type": "stream",
          "name": "stdout",
          "text": [
            "0.5721226831001317 -0.08680173999760286 -0.20970152226101682 0.9035827918403053\n",
            "1.1792022126818174\n"
          ]
        }
      ]
    },
    {
      "cell_type": "code",
      "source": [
        "plt.scatter(data['습도'],data['이슬점 온도'])\n",
        "plt.show()\n",
        "plt.scatter(data['풍속'],data['이슬점 온도'])\n",
        "plt.show()\n",
        "plt.scatter(data['현지기압'],data['이슬점 온도'])\n",
        "plt.show()\n",
        "plt.scatter(data['기온'],data['이슬점 온도'])\n",
        "plt.show()\n"
      ],
      "metadata": {
        "colab": {
          "base_uri": "https://localhost:8080/",
          "height": 1000
        },
        "id": "WU6ewjVh064s",
        "outputId": "b0bc7c35-7349-4c9c-89a3-1e04d5ed4f3f"
      },
      "execution_count": null,
      "outputs": [
        {
          "output_type": "display_data",
          "data": {
            "text/plain": [
              "<Figure size 432x288 with 1 Axes>"
            ],
            "image/png": "[encoded data removed]"
          },
          "metadata": {
            "needs_background": "light"
          }
        },
        {
          "output_type": "display_data",
          "data": {
            "text/plain": [
              "<Figure size 432x288 with 1 Axes>"
            ],
            "image/png": "[encoded data removed]"
          },
          "metadata": {
            "needs_background": "light"
          }
        },
        {
          "output_type": "display_data",
          "data": {
            "text/plain": [
              "<Figure size 432x288 with 1 Axes>"
            ],
            "image/png": "[encoded data removed]"
          },
          "metadata": {
            "needs_background": "light"
          }
        },
        {
          "output_type": "display_data",
          "data": {
            "text/plain": [
              "<Figure size 432x288 with 1 Axes>"
            ],
            "image/png": "[encoded data removed]"
          },
          "metadata": {
            "needs_background": "light"
          }
        }
      ]
    },
    {
      "cell_type": "code",
      "source": [
        "data = data.loc[data['현지기압']>200, :]\n",
        "data"
      ],
      "metadata": {
        "colab": {
          "base_uri": "https://localhost:8080/",
          "height": 424
        },
        "id": "KBpAe5Wu1qLF",
        "outputId": "89320026-612c-41f8-a9ca-35e1e44dee85"
      },
      "execution_count": null,
      "outputs": [
        {
          "output_type": "execute_result",
          "data": {
            "text/plain": [
              "         습도    풍속   현지기압    기온  이슬점 온도\n",
              "0      70.7   3.0  995.0  25.0    19.3\n",
              "1      61.8   3.0  993.9  27.9    19.9\n",
              "2      49.7   3.0  992.3  30.5    18.8\n",
              "3      66.8   6.0  992.1  28.8    22.0\n",
              "4      79.6   4.0  993.4  26.3    22.5\n",
              "...     ...   ...    ...   ...     ...\n",
              "32080  65.7  11.0  987.0  21.7    15.0\n",
              "32081  83.8   5.0  989.7  18.9    16.1\n",
              "32082  84.9   7.0  991.2  18.8    16.2\n",
              "32083  85.9   4.0  991.7  18.4    16.0\n",
              "32084  88.7   6.0  992.7  18.3    16.4\n",
              "\n",
              "[32027 rows x 5 columns]"
            ],
            "text/html": [
              "\n",
              "  <div id=\"df-e464da78-7427-493e-a24d-231e5df3720b\">\n",
              "    <div class=\"colab-df-container\">\n",
              "      <div>\n",
              "<style scoped>\n",
              "    .dataframe tbody tr th:only-of-type {\n",
              "        vertical-align: middle;\n",
              "    }\n",
              "\n",
              "    .dataframe tbody tr th {\n",
              "        vertical-align: top;\n",
              "    }\n",
              "\n",
              "    .dataframe thead th {\n",
              "        text-align: right;\n",
              "    }\n",
              "</style>\n",
              "<table border=\"1\" class=\"dataframe\">\n",
              "  <thead>\n",
              "    <tr style=\"text-align: right;\">\n",
              "      <th></th>\n",
              "      <th>습도</th>\n",
              "      <th>풍속</th>\n",
              "      <th>현지기압</th>\n",
              "      <th>기온</th>\n",
              "      <th>이슬점 온도</th>\n",
              "    </tr>\n",
              "  </thead>\n",
              "  <tbody>\n",
              "    <tr>\n",
              "      <th>0</th>\n",
              "      <td>70.7</td>\n",
              "      <td>3.0</td>\n",
              "      <td>995.0</td>\n",
              "      <td>25.0</td>\n",
              "      <td>19.3</td>\n",
              "    </tr>\n",
              "    <tr>\n",
              "      <th>1</th>\n",
              "      <td>61.8</td>\n",
              "      <td>3.0</td>\n",
              "      <td>993.9</td>\n",
              "      <td>27.9</td>\n",
              "      <td>19.9</td>\n",
              "    </tr>\n",
              "    <tr>\n",
              "      <th>2</th>\n",
              "      <td>49.7</td>\n",
              "      <td>3.0</td>\n",
              "      <td>992.3</td>\n",
              "      <td>30.5</td>\n",
              "      <td>18.8</td>\n",
              "    </tr>\n",
              "    <tr>\n",
              "      <th>3</th>\n",
              "      <td>66.8</td>\n",
              "      <td>6.0</td>\n",
              "      <td>992.1</td>\n",
              "      <td>28.8</td>\n",
              "      <td>22.0</td>\n",
              "    </tr>\n",
              "    <tr>\n",
              "      <th>4</th>\n",
              "      <td>79.6</td>\n",
              "      <td>4.0</td>\n",
              "      <td>993.4</td>\n",
              "      <td>26.3</td>\n",
              "      <td>22.5</td>\n",
              "    </tr>\n",
              "    <tr>\n",
              "      <th>...</th>\n",
              "      <td>...</td>\n",
              "      <td>...</td>\n",
              "      <td>...</td>\n",
              "      <td>...</td>\n",
              "      <td>...</td>\n",
              "    </tr>\n",
              "    <tr>\n",
              "      <th>32080</th>\n",
              "      <td>65.7</td>\n",
              "      <td>11.0</td>\n",
              "      <td>987.0</td>\n",
              "      <td>21.7</td>\n",
              "      <td>15.0</td>\n",
              "    </tr>\n",
              "    <tr>\n",
              "      <th>32081</th>\n",
              "      <td>83.8</td>\n",
              "      <td>5.0</td>\n",
              "      <td>989.7</td>\n",
              "      <td>18.9</td>\n",
              "      <td>16.1</td>\n",
              "    </tr>\n",
              "    <tr>\n",
              "      <th>32082</th>\n",
              "      <td>84.9</td>\n",
              "      <td>7.0</td>\n",
              "      <td>991.2</td>\n",
              "      <td>18.8</td>\n",
              "      <td>16.2</td>\n",
              "    </tr>\n",
              "    <tr>\n",
              "      <th>32083</th>\n",
              "      <td>85.9</td>\n",
              "      <td>4.0</td>\n",
              "      <td>991.7</td>\n",
              "      <td>18.4</td>\n",
              "      <td>16.0</td>\n",
              "    </tr>\n",
              "    <tr>\n",
              "      <th>32084</th>\n",
              "      <td>88.7</td>\n",
              "      <td>6.0</td>\n",
              "      <td>992.7</td>\n",
              "      <td>18.3</td>\n",
              "      <td>16.4</td>\n",
              "    </tr>\n",
              "  </tbody>\n",
              "</table>\n",
              "<p>32027 rows × 5 columns</p>\n",
              "</div>\n",
              "      <button class=\"colab-df-convert\" onclick=\"convertToInteractive('df-e464da78-7427-493e-a24d-231e5df3720b')\"\n",
              "              title=\"Convert this dataframe to an interactive table.\"\n",
              "              style=\"display:none;\">\n",
              "        \n",
              "  <svg xmlns=\"http://www.w3.org/2000/svg\" height=\"24px\"viewBox=\"0 0 24 24\"\n",
              "       width=\"24px\">\n",
              "    <path d=\"M0 0h24v24H0V0z\" fill=\"none\"/>\n",
              "    <path d=\"M18.56 5.44l.94 2.06.94-2.06 2.06-.94-2.06-.94-.94-2.06-.94 2.06-2.06.94zm-11 1L8.5 8.5l.94-2.06 2.06-.94-2.06-.94L8.5 2.5l-.94 2.06-2.06.94zm10 10l.94 2.06.94-2.06 2.06-.94-2.06-.94-.94-2.06-.94 2.06-2.06.94z\"/><path d=\"M17.41 7.96l-1.37-1.37c-.4-.4-.92-.59-1.43-.59-.52 0-1.04.2-1.43.59L10.3 9.45l-7.72 7.72c-.78.78-.78 2.05 0 2.83L4 21.41c.39.39.9.59 1.41.59.51 0 1.02-.2 1.41-.59l7.78-7.78 2.81-2.81c.8-.78.8-2.07 0-2.86zM5.41 20L4 18.59l7.72-7.72 1.47 1.35L5.41 20z\"/>\n",
              "  </svg>\n",
              "      </button>\n",
              "      \n",
              "  <style>\n",
              "    .colab-df-container {\n",
              "      display:flex;\n",
              "      flex-wrap:wrap;\n",
              "      gap: 12px;\n",
              "    }\n",
              "\n",
              "    .colab-df-convert {\n",
              "      background-color: #E8F0FE;\n",
              "      border: none;\n",
              "      border-radius: 50%;\n",
              "      cursor: pointer;\n",
              "      display: none;\n",
              "      fill: #1967D2;\n",
              "      height: 32px;\n",
              "      padding: 0 0 0 0;\n",
              "      width: 32px;\n",
              "    }\n",
              "\n",
              "    .colab-df-convert:hover {\n",
              "      background-color: #E2EBFA;\n",
              "      box-shadow: 0px 1px 2px rgba(60, 64, 67, 0.3), 0px 1px 3px 1px rgba(60, 64, 67, 0.15);\n",
              "      fill: #174EA6;\n",
              "    }\n",
              "\n",
              "    [theme=dark] .colab-df-convert {\n",
              "      background-color: #3B4455;\n",
              "      fill: #D2E3FC;\n",
              "    }\n",
              "\n",
              "    [theme=dark] .colab-df-convert:hover {\n",
              "      background-color: #434B5C;\n",
              "      box-shadow: 0px 1px 3px 1px rgba(0, 0, 0, 0.15);\n",
              "      filter: drop-shadow(0px 1px 2px rgba(0, 0, 0, 0.3));\n",
              "      fill: #FFFFFF;\n",
              "    }\n",
              "  </style>\n",
              "\n",
              "      <script>\n",
              "        const buttonEl =\n",
              "          document.querySelector('#df-e464da78-7427-493e-a24d-231e5df3720b button.colab-df-convert');\n",
              "        buttonEl.style.display =\n",
              "          google.colab.kernel.accessAllowed ? 'block' : 'none';\n",
              "\n",
              "        async function convertToInteractive(key) {\n",
              "          const element = document.querySelector('#df-e464da78-7427-493e-a24d-231e5df3720b');\n",
              "          const dataTable =\n",
              "            await google.colab.kernel.invokeFunction('convertToInteractive',\n",
              "                                                     [key], {});\n",
              "          if (!dataTable) return;\n",
              "\n",
              "          const docLinkHtml = 'Like what you see? Visit the ' +\n",
              "            '<a target=\"_blank\" href=https://colab.research.google.com/notebooks/data_table.ipynb>data table notebook</a>'\n",
              "            + ' to learn more about interactive tables.';\n",
              "          element.innerHTML = '';\n",
              "          dataTable['output_type'] = 'display_data';\n",
              "          await google.colab.output.renderOutput(dataTable, element);\n",
              "          const docLink = document.createElement('div');\n",
              "          docLink.innerHTML = docLinkHtml;\n",
              "          element.appendChild(docLink);\n",
              "        }\n",
              "      </script>\n",
              "    </div>\n",
              "  </div>\n",
              "  "
            ]
          },
          "metadata": {},
          "execution_count": 10
        }
      ]
    },
    {
      "cell_type": "code",
      "source": [
        "def corr(a,b):\n",
        "  a = a - a.mean()\n",
        "  b = b - b.mean()\n",
        "\n",
        "  #cosine similarity = (a*b)/|a||b|\n",
        "  return (a*b).sum() / (((a*a).sum()**0.5) * ((b*b).sum()**0.5))\n",
        "\n",
        "#습도 풍속 현지기압 기온\n",
        "a = corr(data[\"습도\"], data[\"이슬점 온도\"])\n",
        "b = corr(data[\"풍속\"], data[\"이슬점 온도\"])\n",
        "c = corr(data[\"현지기압\"], data[\"이슬점 온도\"])\n",
        "d = corr(data[\"기온\"], data[\"이슬점 온도\"])\n",
        "print(a,b,c,d)\n",
        "print(a+b+c+d)"
      ],
      "metadata": {
        "colab": {
          "base_uri": "https://localhost:8080/"
        },
        "id": "y8vl13TW3LpH",
        "outputId": "bff702c8-b0bf-44a3-b63f-27fb7397b625"
      },
      "execution_count": null,
      "outputs": [
        {
          "output_type": "stream",
          "name": "stdout",
          "text": [
            "0.5721221451072883 -0.08681412771332694 -0.7701750683144204 0.9035922524679421\n",
            "0.618725201547483\n"
          ]
        }
      ]
    },
    {
      "cell_type": "code",
      "source": [
        "plt.scatter(data['습도'],data['이슬점 온도'])\n",
        "plt.show()\n",
        "plt.scatter(data['풍속'],data['이슬점 온도'])\n",
        "plt.show()\n",
        "plt.scatter(data['현지기압'],data['이슬점 온도'])\n",
        "plt.show()\n",
        "plt.scatter(data['기온'],data['이슬점 온도'])\n",
        "plt.show()"
      ],
      "metadata": {
        "colab": {
          "base_uri": "https://localhost:8080/",
          "height": 1000
        },
        "id": "D2pUui5s3frx",
        "outputId": "32dad67e-84be-49ea-9497-553975e30178"
      },
      "execution_count": null,
      "outputs": [
        {
          "output_type": "display_data",
          "data": {
            "text/plain": [
              "<Figure size 432x288 with 1 Axes>"
            ],
            "image/png": "[encoded data removed]"
          },
          "metadata": {
            "needs_background": "light"
          }
        },
        {
          "output_type": "display_data",
          "data": {
            "text/plain": [
              "<Figure size 432x288 with 1 Axes>"
            ],
            "image/png": "[encoded data removed]"
          },
          "metadata": {
            "needs_background": "light"
          }
        },
        {
          "output_type": "display_data",
          "data": {
            "text/plain": [
              "<Figure size 432x288 with 1 Axes>"
            ],
            "image/png": "[encoded data removed]"
          },
          "metadata": {
            "needs_background": "light"
          }
        },
        {
          "output_type": "display_data",
          "data": {
            "text/plain": [
              "<Figure size 432x288 with 1 Axes>"
            ],
            "image/png": "[encoded data removed]"
          },
          "metadata": {
            "needs_background": "light"
          }
        }
      ]
    },
    {
      "cell_type": "code",
      "source": [
        "model = LinearRegression()\n",
        "X = data[['습도','풍속','현지기압','기온']]\n",
        "Y = data['이슬점 온도']\n",
        "model.fit(X,Y)\n",
        "print(model.coef_, model.intercept_)\n",
        "\n",
        "((model.predict(X)-Y)**2).mean()"
      ],
      "metadata": {
        "colab": {
          "base_uri": "https://localhost:8080/"
        },
        "id": "s6gdefVL3uAf",
        "outputId": "16f0b21a-82d4-4cc1-aad0-e433fba974ad"
      },
      "execution_count": null,
      "outputs": [
        {
          "output_type": "stream",
          "name": "stdout",
          "text": [
            "[ 0.2676329  -0.03078923  0.00952646  0.92936961] -32.91662937401235\n"
          ]
        },
        {
          "output_type": "execute_result",
          "data": {
            "text/plain": [
              "1.168514629572586"
            ]
          },
          "metadata": {},
          "execution_count": 13
        }
      ]
    },
    {
      "cell_type": "code",
      "source": [
        "import pickle\n",
        "data = pickle.load(open(\"mid_animal_data_pub.pkl\", \"rb\"))\n",
        "data"
      ],
      "metadata": {
        "id": "ixWcUZK74-I8",
        "colab": {
          "base_uri": "https://localhost:8080/"
        },
        "outputId": "6670d19d-ff6d-4f64-a6f3-1a2ecfbb8023"
      },
      "execution_count": 3,
      "outputs": [
        {
          "output_type": "execute_result",
          "data": {
            "text/plain": [
              "{'train_vectors': array([[ 6.765437  ,  2.335988  ,  2.2718782 , ..., -3.7908099 ,\n",
              "         -5.7790656 , -8.452645  ],\n",
              "        [ 3.9811578 ,  0.8993346 ,  0.3574735 , ..., -0.40794182,\n",
              "         -3.505698  , -5.865824  ],\n",
              "        [ 1.5094669 , -1.108995  , -2.3785057 , ...,  4.175896  ,\n",
              "         -1.3695054 , -3.9586785 ],\n",
              "        ...,\n",
              "        [ 3.8107047 ,  1.5099052 ,  1.7827855 , ..., -2.885677  ,\n",
              "         -3.352014  , -4.757718  ],\n",
              "        [ 7.604     ,  1.8847884 ,  1.2902098 , ..., -2.2294068 ,\n",
              "         -5.539374  , -8.502373  ],\n",
              "        [ 5.3538036 ,  2.0250673 ,  1.8471651 , ..., -3.2370934 ,\n",
              "         -4.578217  , -6.5192943 ]], dtype=float32),\n",
              " 'train_images': array([[[[  8,   9,  11],\n",
              "          [  6,   7,   9],\n",
              "          [  6,   7,   9],\n",
              "          ...,\n",
              "          [  2,   4,   4],\n",
              "          [  2,   4,   3],\n",
              "          [  1,   3,   2]],\n",
              " \n",
              "         [[  8,   9,  11],\n",
              "          [  6,   7,   9],\n",
              "          [  6,   7,   9],\n",
              "          ...,\n",
              "          [  2,   4,   4],\n",
              "          [  2,   4,   3],\n",
              "          [  1,   3,   2]],\n",
              " \n",
              "         [[  8,   9,  11],\n",
              "          [  6,   7,   9],\n",
              "          [  6,   7,   9],\n",
              "          ...,\n",
              "          [  2,   4,   4],\n",
              "          [  2,   4,   3],\n",
              "          [  1,   3,   2]],\n",
              " \n",
              "         ...,\n",
              " \n",
              "         [[  6,   7,  11],\n",
              "          [  6,   7,  10],\n",
              "          [  6,   7,  10],\n",
              "          ...,\n",
              "          [  4,   5,   9],\n",
              "          [  6,   7,  10],\n",
              "          [  6,   7,  10]],\n",
              " \n",
              "         [[  4,   5,   7],\n",
              "          [  5,   6,   8],\n",
              "          [  5,   6,   8],\n",
              "          ...,\n",
              "          [  4,   5,   7],\n",
              "          [  5,   6,   8],\n",
              "          [  5,   6,   8]],\n",
              " \n",
              "         [[  7,   8,  10],\n",
              "          [  5,   6,   8],\n",
              "          [  5,   6,   8],\n",
              "          ...,\n",
              "          [  4,   5,   7],\n",
              "          [  5,   6,   8],\n",
              "          [  7,   8,  10]]],\n",
              " \n",
              " \n",
              "        [[[253, 253, 253],\n",
              "          [253, 253, 253],\n",
              "          [253, 253, 253],\n",
              "          ...,\n",
              "          [211, 204, 198],\n",
              "          [207, 197, 190],\n",
              "          [203, 192, 183]],\n",
              " \n",
              "         [[253, 253, 253],\n",
              "          [253, 253, 253],\n",
              "          [253, 253, 253],\n",
              "          ...,\n",
              "          [207, 198, 191],\n",
              "          [204, 192, 183],\n",
              "          [200, 187, 176]],\n",
              " \n",
              "         [[253, 253, 253],\n",
              "          [253, 253, 253],\n",
              "          [253, 253, 253],\n",
              "          ...,\n",
              "          [204, 192, 182],\n",
              "          [201, 187, 176],\n",
              "          [198, 182, 168]],\n",
              " \n",
              "         ...,\n",
              " \n",
              "         [[252, 236, 205],\n",
              "          [251, 234, 203],\n",
              "          [253, 234, 202],\n",
              "          ...,\n",
              "          [247, 225, 194],\n",
              "          [248, 226, 195],\n",
              "          [250, 227, 197]],\n",
              " \n",
              "         [[252, 240, 208],\n",
              "          [251, 236, 205],\n",
              "          [252, 235, 205],\n",
              "          ...,\n",
              "          [249, 230, 198],\n",
              "          [248, 229, 197],\n",
              "          [248, 229, 197]],\n",
              " \n",
              "         [[251, 241, 209],\n",
              "          [249, 238, 206],\n",
              "          [251, 238, 206],\n",
              "          ...,\n",
              "          [247, 231, 198],\n",
              "          [247, 232, 198],\n",
              "          [246, 231, 198]]],\n",
              " \n",
              " \n",
              "        [[[ 22,  20,  21],\n",
              "          [ 28,  26,  27],\n",
              "          [ 35,  33,  34],\n",
              "          ...,\n",
              "          [ 58, 101,  30],\n",
              "          [ 66, 116,  40],\n",
              "          [ 67, 110,  43]],\n",
              " \n",
              "         [[ 24,  22,  23],\n",
              "          [ 26,  24,  25],\n",
              "          [ 27,  25,  26],\n",
              "          ...,\n",
              "          [ 65, 106,  39],\n",
              "          [ 86, 128,  59],\n",
              "          [ 76, 114,  48]],\n",
              " \n",
              "         [[ 25,  23,  24],\n",
              "          [ 29,  27,  28],\n",
              "          [ 32,  30,  31],\n",
              "          ...,\n",
              "          [ 73, 108,  50],\n",
              "          [ 94, 126,  66],\n",
              "          [ 98, 132,  62]],\n",
              " \n",
              "         ...,\n",
              " \n",
              "         [[147, 167, 114],\n",
              "          [169, 179, 141],\n",
              "          [156, 160, 128],\n",
              "          ...,\n",
              "          [155, 161, 137],\n",
              "          [155, 155, 130],\n",
              "          [139, 139, 111]],\n",
              " \n",
              "         [[136, 155, 106],\n",
              "          [177, 191, 155],\n",
              "          [169, 175, 142],\n",
              "          ...,\n",
              "          [190, 184, 165],\n",
              "          [181, 176, 155],\n",
              "          [176, 172, 148]],\n",
              " \n",
              "         [[149, 164, 120],\n",
              "          [164, 177, 143],\n",
              "          [137, 141, 109],\n",
              "          ...,\n",
              "          [190, 177, 159],\n",
              "          [189, 183, 160],\n",
              "          [183, 176, 151]]],\n",
              " \n",
              " \n",
              "        ...,\n",
              " \n",
              " \n",
              "        [[[253, 237, 160],\n",
              "          [253, 237, 160],\n",
              "          [253, 237, 160],\n",
              "          ...,\n",
              "          [245, 227, 151],\n",
              "          [244, 226, 150],\n",
              "          [244, 226, 150]],\n",
              " \n",
              "         [[253, 237, 160],\n",
              "          [253, 237, 160],\n",
              "          [253, 237, 160],\n",
              "          ...,\n",
              "          [245, 227, 151],\n",
              "          [244, 226, 150],\n",
              "          [244, 226, 150]],\n",
              " \n",
              "         [[253, 237, 160],\n",
              "          [253, 237, 160],\n",
              "          [253, 237, 160],\n",
              "          ...,\n",
              "          [246, 228, 152],\n",
              "          [244, 226, 150],\n",
              "          [244, 226, 150]],\n",
              " \n",
              "         ...,\n",
              " \n",
              "         [[254, 254, 254],\n",
              "          [254, 254, 254],\n",
              "          [254, 254, 254],\n",
              "          ...,\n",
              "          [255, 253, 251],\n",
              "          [255, 253, 251],\n",
              "          [255, 254, 250]],\n",
              " \n",
              "         [[254, 254, 254],\n",
              "          [254, 254, 254],\n",
              "          [254, 254, 254],\n",
              "          ...,\n",
              "          [253, 255, 251],\n",
              "          [253, 255, 251],\n",
              "          [253, 255, 251]],\n",
              " \n",
              "         [[255, 255, 255],\n",
              "          [255, 255, 255],\n",
              "          [255, 255, 255],\n",
              "          ...,\n",
              "          [253, 255, 255],\n",
              "          [253, 255, 255],\n",
              "          [253, 255, 255]]],\n",
              " \n",
              " \n",
              "        [[[122, 118, 117],\n",
              "          [146, 142, 143],\n",
              "          [158, 154, 155],\n",
              "          ...,\n",
              "          [ 56,  47,  45],\n",
              "          [ 51,  46,  43],\n",
              "          [ 48,  45,  43]],\n",
              " \n",
              "         [[121, 118, 117],\n",
              "          [149, 144, 145],\n",
              "          [161, 157, 158],\n",
              "          ...,\n",
              "          [ 57,  48,  45],\n",
              "          [ 53,  47,  44],\n",
              "          [ 49,  45,  42]],\n",
              " \n",
              "         [[117, 115, 117],\n",
              "          [148, 144, 145],\n",
              "          [163, 158, 160],\n",
              "          ...,\n",
              "          [ 59,  50,  46],\n",
              "          [ 55,  47,  45],\n",
              "          [ 50,  45,  42]],\n",
              " \n",
              "         ...,\n",
              " \n",
              "         [[133, 126, 127],\n",
              "          [119, 115, 115],\n",
              "          [116, 111, 113],\n",
              "          ...,\n",
              "          [ 65,  45,  38],\n",
              "          [ 53,  39,  34],\n",
              "          [ 44,  36,  33]],\n",
              " \n",
              "         [[129, 121, 121],\n",
              "          [114, 110, 110],\n",
              "          [113, 109, 110],\n",
              "          ...,\n",
              "          [ 62,  44,  37],\n",
              "          [ 49,  38,  33],\n",
              "          [ 42,  35,  32]],\n",
              " \n",
              "         [[123, 118, 115],\n",
              "          [110, 106, 105],\n",
              "          [110, 107, 107],\n",
              "          ...,\n",
              "          [ 60,  42,  36],\n",
              "          [ 48,  37,  33],\n",
              "          [ 41,  35,  32]]],\n",
              " \n",
              " \n",
              "        [[[  0,   1,   0],\n",
              "          [ 40,  28,  23],\n",
              "          [110,  81,  72],\n",
              "          ...,\n",
              "          [107,  82,  85],\n",
              "          [101,  76,  82],\n",
              "          [ 98,  72,  82]],\n",
              " \n",
              "         [[  1,   1,   1],\n",
              "          [ 22,  11,   8],\n",
              "          [ 78,  52,  43],\n",
              "          ...,\n",
              "          [102,  77,  81],\n",
              "          [104,  78,  85],\n",
              "          [105,  79,  89]],\n",
              " \n",
              "         [[  1,   1,   3],\n",
              "          [ 18,   9,   7],\n",
              "          [ 54,  33,  25],\n",
              "          ...,\n",
              "          [101,  76,  80],\n",
              "          [107,  81,  88],\n",
              "          [108,  82,  92]],\n",
              " \n",
              "         ...,\n",
              " \n",
              "         [[  1,   1,   1],\n",
              "          [  1,   1,   1],\n",
              "          [  1,   1,   1],\n",
              "          ...,\n",
              "          [ 22,  20,  19],\n",
              "          [  2,   1,   2],\n",
              "          [  2,   1,   3]],\n",
              " \n",
              "         [[  1,   1,   1],\n",
              "          [  1,   1,   1],\n",
              "          [  1,   1,   1],\n",
              "          ...,\n",
              "          [ 10,   9,   7],\n",
              "          [  3,   2,   0],\n",
              "          [  2,   1,   0]],\n",
              " \n",
              "         [[  1,   1,   1],\n",
              "          [  1,   1,   1],\n",
              "          [  1,   1,   1],\n",
              "          ...,\n",
              "          [  5,   4,   2],\n",
              "          [  3,   2,   0],\n",
              "          [  2,   1,   0]]]], dtype=uint8),\n",
              " 'train_labels': array([0, 0, 1, 1, 0, 1, 0, 0, 2, 1, 2, 1, 0, 1, 1, 1, 1, 1, 2, 2, 2, 1,\n",
              "        0, 1, 1, 0, 2, 0, 0, 2, 0, 2, 0, 0, 0, 0, 1, 2, 0, 2, 1, 1, 2, 1,\n",
              "        2, 0, 2, 2, 1, 0, 1, 2, 2, 0, 2, 0, 2, 1, 0, 1, 0, 1, 0, 2, 2, 0,\n",
              "        0, 1, 2, 1, 2, 1, 0, 1, 2, 1, 2, 2, 2, 2, 1, 2, 1, 2, 0, 2, 2, 2,\n",
              "        0, 2, 1, 2, 2, 2, 0, 0, 1, 2, 0, 2, 1, 0, 2, 2, 2, 2, 1, 2, 1, 2,\n",
              "        0, 0, 0, 2, 0, 2, 2, 1, 0, 2, 2, 1, 1, 1, 0, 2, 2, 1, 2, 2, 2, 1,\n",
              "        2, 0, 0, 2, 2, 0, 0, 2, 2, 0, 1, 1, 1, 0, 0, 1, 2, 2, 2, 2, 2, 1,\n",
              "        1, 1, 1, 2, 1, 2, 2, 1, 1, 0, 1, 0, 0, 2, 0, 2, 1, 2, 2, 2, 1, 0,\n",
              "        2, 1, 2, 2, 1, 2, 1, 0, 1, 0, 2, 1, 1, 1, 1, 2, 1, 1, 0, 0, 1, 2,\n",
              "        0, 1, 2, 0, 0, 0, 0, 0, 2, 1, 0, 0, 0, 1, 1, 2, 0, 1, 0, 1, 0, 0,\n",
              "        0, 1, 2, 1, 1, 2, 2, 2, 1, 1, 0, 1, 2, 0, 0, 2, 2, 2, 2, 2, 1, 0,\n",
              "        0, 2, 2, 1, 0, 1, 0, 0, 0, 1, 2, 1, 0, 0, 1, 0, 2, 0, 0, 1, 0, 0,\n",
              "        2, 2, 2, 1, 2, 1, 1, 0, 2, 2, 2, 1, 1, 0, 2, 0, 2, 0, 1, 1, 1, 2,\n",
              "        1, 2, 2, 0, 2, 1, 2, 1, 2, 1, 1, 0, 2, 1, 2, 0, 0, 2, 1, 1, 1, 1,\n",
              "        2, 0, 0, 0, 2, 1, 1, 2, 0, 0, 1, 0, 1, 0, 1, 1, 0, 2, 0, 1, 1, 1,\n",
              "        2, 0, 0, 1, 1, 2, 0, 2, 2, 1, 1, 1, 1, 1, 2, 2, 1, 0, 0, 0, 1, 2,\n",
              "        2, 2, 1, 0, 0, 1, 0, 2, 1, 2, 1, 1, 0, 0, 1, 0, 2, 1, 0, 0, 1, 0,\n",
              "        0, 1, 2, 0, 0, 2, 0, 1, 1, 2, 1, 1, 0, 2, 0, 2, 0, 0, 0, 2, 1, 0,\n",
              "        1, 1, 2, 1, 2, 2, 1, 1, 2, 2, 1, 1, 1, 2, 0, 0, 0, 0, 2, 2, 2, 1,\n",
              "        0, 0, 1, 2, 1, 2, 1, 0, 1, 0, 0, 2, 2, 0, 0, 1, 1, 0, 1, 0, 0, 2,\n",
              "        0, 2, 1, 0, 1, 0, 1, 1, 0, 2, 2, 0, 1, 0, 2, 0, 1, 1, 2, 1, 1, 2,\n",
              "        2, 2, 1, 1, 2, 0, 1, 1, 1, 1, 1, 2, 1, 1, 2, 0, 0, 2, 1, 1, 1, 2,\n",
              "        1, 2, 1, 2, 0, 2, 2, 2, 1, 1, 1, 0, 2, 1, 2, 1, 2, 1, 0, 0, 2, 1,\n",
              "        1, 2, 2, 2, 0, 2, 1, 0, 2, 2, 1, 1, 1, 1, 2, 2, 1, 0, 0, 0, 0, 1,\n",
              "        1, 2, 1, 2, 0, 2, 1, 0, 1, 2, 2, 2, 0, 2, 0, 2, 0, 2, 2, 2, 2, 1,\n",
              "        0, 0, 2, 1, 2, 1, 2, 2, 1, 2, 1, 2, 1, 1, 2, 1, 2, 2, 1, 0, 0, 2,\n",
              "        2, 0, 2, 2, 2, 1, 0, 1, 0, 2, 0, 0, 1, 0, 1, 0, 0, 0, 0, 1, 2, 1,\n",
              "        0, 0, 0, 1, 1, 2, 0, 1, 2, 1, 2, 1, 0, 2, 0, 2, 2, 2, 0, 1, 1, 1,\n",
              "        0, 2, 0, 1, 0, 1, 1, 2, 2, 1, 2, 2, 0, 1, 1, 2, 0, 1, 1, 2, 1, 0,\n",
              "        0, 1, 1, 0, 1, 2, 0, 1, 1, 0, 2, 2, 1, 2, 2, 2, 1, 0, 2, 2, 1, 1,\n",
              "        0, 0, 2, 1, 2, 0, 0, 2, 0, 2, 0, 1, 2, 2, 0, 0, 0, 2, 0, 1, 0, 1,\n",
              "        1, 1, 1, 1, 2, 1, 1, 2, 2, 1, 0, 1, 0, 2, 0, 1, 0, 1, 1, 2, 2, 2,\n",
              "        0, 1, 2, 0, 1, 0, 0, 1, 2, 1, 2, 2, 0, 2, 0, 2, 1, 1, 1, 0, 0, 2,\n",
              "        2, 2, 0, 0, 1, 1, 1, 2, 0, 1, 0, 2, 1, 2, 0, 0, 2, 1, 2, 0, 1, 1,\n",
              "        0, 1, 2, 2, 0, 1, 2, 1, 1, 2, 1, 2, 1, 1, 0, 2, 0, 2, 2, 0, 0, 2,\n",
              "        1, 0, 0, 2, 2, 2, 1, 2, 2, 1, 1, 0, 0, 0, 0, 2, 1, 1, 2, 2, 0, 0,\n",
              "        0, 1, 2, 0, 0, 2, 2, 1, 2, 0, 1, 0, 2, 2, 0, 2, 2, 2, 2, 0, 2, 2,\n",
              "        2, 2, 1, 0, 2, 0, 1, 1, 0, 1, 2, 0, 1, 1, 2, 2, 2, 1, 2, 1, 0, 2,\n",
              "        2, 2, 0, 1, 2, 1, 0, 1, 1, 0, 2, 1, 2, 0, 2, 1, 2, 2, 0, 0, 1, 2,\n",
              "        1, 1, 2, 2, 0, 2, 1, 0, 0, 1, 1, 1, 1, 1, 1, 2, 1, 0, 2, 2, 0, 0,\n",
              "        0, 1, 1, 0, 1, 2, 1, 0, 2, 1, 2, 1, 2, 2, 2, 2, 1, 1, 0, 2, 0, 0,\n",
              "        0, 1, 0, 2, 2, 2, 1, 0, 2, 2, 1, 2, 2, 1, 2, 2, 0, 2, 0, 1, 0, 2,\n",
              "        2, 0, 0, 1, 0, 1, 0, 2, 2, 2, 1, 0, 1, 2, 2, 1, 1, 2, 1, 1, 0, 2,\n",
              "        0, 1, 1, 0, 1, 1, 0, 1, 0, 0, 1, 1, 1, 1, 0, 2, 1, 1, 2, 2, 1, 0,\n",
              "        0, 2, 1, 0, 0, 0, 2, 2, 1, 2, 0, 0, 1, 1, 0, 0, 0, 2, 2, 1, 1, 1,\n",
              "        2, 0, 1, 1, 1, 0, 2, 0, 0, 0]),\n",
              " 'test1_vectors': array([[  1.9596218 ,  -5.2834277 ,  -9.690897  , ...,  16.853022  ,\n",
              "          -1.9244518 , -10.4397955 ],\n",
              "        [ -4.4417086 ,   0.9962865 ,   2.7274394 , ...,  -4.9806924 ,\n",
              "           3.6910744 ,   8.380396  ],\n",
              "        [  1.7297021 ,  -2.5451572 ,  -5.1038713 , ...,   8.805303  ,\n",
              "          -1.638477  ,  -6.333672  ],\n",
              "        ...,\n",
              "        [  1.8396716 ,  -2.2411644 ,  -4.6280413 , ...,   8.081455  ,\n",
              "          -2.091002  ,  -6.741579  ],\n",
              "        [  3.542675  ,   0.9645815 ,   0.73876035, ...,  -1.3271029 ,\n",
              "          -2.8228834 ,  -4.097799  ],\n",
              "        [  1.2113378 ,  -0.2468346 ,  -0.85431015, ...,   1.3423281 ,\n",
              "          -1.128137  ,  -2.3702765 ]], dtype=float32),\n",
              " 'test1_images': array([[[[145,  95,  83],\n",
              "          [141,  91,  79],\n",
              "          [141,  90,  78],\n",
              "          ...,\n",
              "          [166, 147, 131],\n",
              "          [166, 145, 129],\n",
              "          [164, 143, 128]],\n",
              " \n",
              "         [[ 98,  71,  58],\n",
              "          [ 97,  71,  58],\n",
              "          [105,  78,  66],\n",
              "          ...,\n",
              "          [164, 147, 127],\n",
              "          [163, 146, 125],\n",
              "          [160, 143, 123]],\n",
              " \n",
              "         [[125, 116, 103],\n",
              "          [120, 111,  98],\n",
              "          [125, 116, 102],\n",
              "          ...,\n",
              "          [155, 142, 115],\n",
              "          [156, 145, 118],\n",
              "          [155, 143, 116]],\n",
              " \n",
              "         ...,\n",
              " \n",
              "         [[ 68,  97,  34],\n",
              "          [ 84, 114,  50],\n",
              "          [102, 131,  71],\n",
              "          ...,\n",
              "          [ 86, 109,  51],\n",
              "          [ 73,  96,  35],\n",
              "          [ 73, 107,  37]],\n",
              " \n",
              "         [[ 84, 110,  43],\n",
              "          [ 87, 116,  49],\n",
              "          [ 88, 121,  55],\n",
              "          ...,\n",
              "          [ 94, 119,  53],\n",
              "          [ 64,  87,  29],\n",
              "          [ 61,  93,  32]],\n",
              " \n",
              "         [[ 78, 107,  32],\n",
              "          [ 71, 104,  29],\n",
              "          [ 77, 112,  38],\n",
              "          ...,\n",
              "          [ 95, 121,  50],\n",
              "          [ 73,  97,  35],\n",
              "          [ 53,  76,  24]]],\n",
              " \n",
              " \n",
              "        [[[ 78,  78,  79],\n",
              "          [ 76,  76,  75],\n",
              "          [ 75,  76,  71],\n",
              "          ...,\n",
              "          [176, 179,  59],\n",
              "          [199, 202,  89],\n",
              "          [215, 214, 108]],\n",
              " \n",
              "         [[ 74,  74,  74],\n",
              "          [ 73,  73,  70],\n",
              "          [ 73,  74,  68],\n",
              "          ...,\n",
              "          [183, 184,  72],\n",
              "          [190, 192,  84],\n",
              "          [200, 201, 100]],\n",
              " \n",
              "         [[ 70,  70,  68],\n",
              "          [ 72,  72,  67],\n",
              "          [ 74,  76,  68],\n",
              "          ...,\n",
              "          [202, 201,  96],\n",
              "          [183, 185,  80],\n",
              "          [177, 180,  80]],\n",
              " \n",
              "         ...,\n",
              " \n",
              "         [[252, 253, 147],\n",
              "          [232, 233, 116],\n",
              "          [177, 188,  67],\n",
              "          ...,\n",
              "          [ 45,  47,  34],\n",
              "          [ 39,  41,  28],\n",
              "          [ 31,  33,  20]],\n",
              " \n",
              "         [[245, 248, 134],\n",
              "          [219, 222, 102],\n",
              "          [169, 181,  74],\n",
              "          ...,\n",
              "          [ 42,  44,  31],\n",
              "          [ 33,  35,  22],\n",
              "          [ 28,  30,  19]],\n",
              " \n",
              "         [[237, 240, 125],\n",
              "          [204, 206,  91],\n",
              "          [172, 181,  91],\n",
              "          ...,\n",
              "          [ 40,  42,  29],\n",
              "          [ 34,  36,  22],\n",
              "          [ 27,  28,  18]]],\n",
              " \n",
              " \n",
              "        [[[ 17,  19,  24],\n",
              "          [ 24,  16,  15],\n",
              "          [ 24,  13,  14],\n",
              "          ...,\n",
              "          [ 89,  70,  38],\n",
              "          [ 83,  68,  34],\n",
              "          [ 79,  63,  30]],\n",
              " \n",
              "         [[ 17,  20,  25],\n",
              "          [ 21,  13,  13],\n",
              "          [ 22,  10,  11],\n",
              "          ...,\n",
              "          [ 91,  72,  40],\n",
              "          [ 85,  69,  36],\n",
              "          [ 81,  65,  32]],\n",
              " \n",
              "         [[ 21,  24,  29],\n",
              "          [ 29,  21,  21],\n",
              "          [ 27,  16,  17],\n",
              "          ...,\n",
              "          [ 93,  74,  42],\n",
              "          [ 86,  71,  38],\n",
              "          [ 84,  68,  35]],\n",
              " \n",
              "         ...,\n",
              " \n",
              "         [[ 83,  57,  30],\n",
              "          [ 90,  64,  37],\n",
              "          [ 96,  70,  43],\n",
              "          ...,\n",
              "          [107,  88,  68],\n",
              "          [102,  84,  70],\n",
              "          [105,  86,  72]],\n",
              " \n",
              "         [[ 81,  55,  28],\n",
              "          [ 85,  59,  32],\n",
              "          [ 96,  70,  43],\n",
              "          ...,\n",
              "          [118,  98,  81],\n",
              "          [114,  95,  81],\n",
              "          [106,  87,  73]],\n",
              " \n",
              "         [[ 80,  56,  29],\n",
              "          [ 84,  59,  33],\n",
              "          [ 93,  68,  42],\n",
              "          ...,\n",
              "          [110,  91,  77],\n",
              "          [108,  90,  76],\n",
              "          [103,  85,  72]]],\n",
              " \n",
              " \n",
              "        ...,\n",
              " \n",
              " \n",
              "        [[[221, 204, 174],\n",
              "          [222, 205, 175],\n",
              "          [224, 207, 177],\n",
              "          ...,\n",
              "          [208, 206, 196],\n",
              "          [206, 206, 198],\n",
              "          [206, 206, 198]],\n",
              " \n",
              "         [[222, 205, 175],\n",
              "          [221, 204, 174],\n",
              "          [222, 205, 175],\n",
              "          ...,\n",
              "          [203, 201, 191],\n",
              "          [202, 202, 194],\n",
              "          [204, 204, 196]],\n",
              " \n",
              "         [[222, 205, 175],\n",
              "          [222, 205, 175],\n",
              "          [223, 206, 176],\n",
              "          ...,\n",
              "          [203, 201, 193],\n",
              "          [202, 202, 194],\n",
              "          [203, 203, 195]],\n",
              " \n",
              "         ...,\n",
              " \n",
              "         [[162,  24,  21],\n",
              "          [161,  23,  19],\n",
              "          [161,  23,  20],\n",
              "          ...,\n",
              "          [171,  46,  53],\n",
              "          [164,  41,  47],\n",
              "          [158,  31,  38]],\n",
              " \n",
              "         [[172,  29,  28],\n",
              "          [171,  28,  26],\n",
              "          [170,  28,  26],\n",
              "          ...,\n",
              "          [156,  34,  40],\n",
              "          [172,  46,  52],\n",
              "          [161,  33,  40]],\n",
              " \n",
              "         [[180,  35,  35],\n",
              "          [181,  33,  34],\n",
              "          [179,  32,  33],\n",
              "          ...,\n",
              "          [147,  25,  31],\n",
              "          [170,  40,  47],\n",
              "          [181,  48,  57]]],\n",
              " \n",
              " \n",
              "        [[[175, 179, 190],\n",
              "          [174, 178, 189],\n",
              "          [174, 178, 189],\n",
              "          ...,\n",
              "          [181, 187, 199],\n",
              "          [177, 183, 195],\n",
              "          [178, 184, 196]],\n",
              " \n",
              "         [[171, 175, 186],\n",
              "          [170, 174, 185],\n",
              "          [170, 174, 185],\n",
              "          ...,\n",
              "          [178, 184, 196],\n",
              "          [178, 184, 196],\n",
              "          [178, 184, 196]],\n",
              " \n",
              "         [[174, 178, 189],\n",
              "          [177, 181, 192],\n",
              "          [183, 187, 198],\n",
              "          ...,\n",
              "          [177, 183, 195],\n",
              "          [176, 182, 194],\n",
              "          [178, 184, 196]],\n",
              " \n",
              "         ...,\n",
              " \n",
              "         [[181, 186, 190],\n",
              "          [167, 172, 176],\n",
              "          [179, 184, 188],\n",
              "          ...,\n",
              "          [184, 188, 200],\n",
              "          [186, 190, 202],\n",
              "          [187, 191, 203]],\n",
              " \n",
              "         [[182, 187, 191],\n",
              "          [176, 181, 185],\n",
              "          [181, 186, 190],\n",
              "          ...,\n",
              "          [183, 187, 199],\n",
              "          [185, 189, 201],\n",
              "          [187, 191, 203]],\n",
              " \n",
              "         [[196, 200, 206],\n",
              "          [186, 191, 196],\n",
              "          [177, 182, 186],\n",
              "          ...,\n",
              "          [181, 185, 197],\n",
              "          [183, 187, 199],\n",
              "          [186, 190, 201]]],\n",
              " \n",
              " \n",
              "        [[[135, 107,  93],\n",
              "          [133, 105,  91],\n",
              "          [128,  99,  85],\n",
              "          ...,\n",
              "          [140, 122, 108],\n",
              "          [139, 121, 107],\n",
              "          [138, 120, 106]],\n",
              " \n",
              "         [[130, 102,  88],\n",
              "          [129, 101,  87],\n",
              "          [126,  98,  84],\n",
              "          ...,\n",
              "          [140, 122, 108],\n",
              "          [139, 121, 107],\n",
              "          [137, 119, 105]],\n",
              " \n",
              "         [[129, 101,  87],\n",
              "          [128, 100,  86],\n",
              "          [128, 100,  86],\n",
              "          ...,\n",
              "          [141, 123, 109],\n",
              "          [140, 122, 108],\n",
              "          [139, 121, 107]],\n",
              " \n",
              "         ...,\n",
              " \n",
              "         [[198, 187, 186],\n",
              "          [200, 185, 180],\n",
              "          [200, 180, 172],\n",
              "          ...,\n",
              "          [ 87,  68,  44],\n",
              "          [ 90,  71,  46],\n",
              "          [ 94,  74,  50]],\n",
              " \n",
              "         [[180, 169, 162],\n",
              "          [178, 161, 151],\n",
              "          [180, 157, 142],\n",
              "          ...,\n",
              "          [ 85,  67,  42],\n",
              "          [ 84,  63,  40],\n",
              "          [ 88,  68,  44]],\n",
              " \n",
              "         [[153, 141, 127],\n",
              "          [150, 133, 115],\n",
              "          [155, 132, 109],\n",
              "          ...,\n",
              "          [ 93,  74,  49],\n",
              "          [ 85,  65,  41],\n",
              "          [ 85,  65,  41]]]], dtype=uint8),\n",
              " 'test2_vectors': array([[-1.9928411 ,  0.8198351 ,  1.9843932 , ..., -3.324309  ,\n",
              "          1.6370683 ,  4.152033  ],\n",
              "        [ 1.9643736 , -2.139667  , -4.4553475 , ...,  7.5656767 ,\n",
              "         -1.8363523 , -6.28101   ],\n",
              "        [-3.887692  ,  0.7139225 ,  2.6493206 , ..., -4.3695326 ,\n",
              "          3.3229027 ,  7.3613114 ],\n",
              "        ...,\n",
              "        [ 1.9438642 , -2.0073485 , -3.8840551 , ...,  6.829718  ,\n",
              "         -1.543478  , -5.7709885 ],\n",
              "        [-1.5700417 ,  0.50350535,  1.3319415 , ..., -2.1423059 ,\n",
              "          1.2594405 ,  3.21758   ],\n",
              "        [-4.3019032 ,  0.43308634,  1.7152294 , ..., -3.1049318 ,\n",
              "          3.1452563 ,  6.7940493 ]], dtype=float32)}"
            ]
          },
          "metadata": {},
          "execution_count": 3
        }
      ]
    },
    {
      "cell_type": "code",
      "source": [
        "for i in range(10):\n",
        "  plt.subplot(2,5,i+1)\n",
        "  plt.imshow(data['test1_images'][i])\n",
        " \n",
        "plt.show()\n"
      ],
      "metadata": {
        "colab": {
          "base_uri": "https://localhost:8080/",
          "height": 228
        },
        "id": "5VbWoei56160",
        "outputId": "5f9a4118-f4b5-497b-d5ab-723ad6a73064"
      },
      "execution_count": 4,
      "outputs": [
        {
          "output_type": "display_data",
          "data": {
            "text/plain": [
              "<Figure size 432x288 with 10 Axes>"
            ],
            "image/png": "[encoded data removed]"
          },
          "metadata": {
            "needs_background": "light"
          }
        }
      ]
    },
    {
      "cell_type": "code",
      "source": [
        "def cosine(a,b):\n",
        "   return (a*b).sum() / (((a*a).sum() * (b*b).sum())**0.5)\n",
        "\n",
        "cosine(data['train_vectors'][0], data['test1_vectors'][1])"
      ],
      "metadata": {
        "colab": {
          "base_uri": "https://localhost:8080/"
        },
        "id": "38c6oWEQ7wXY",
        "outputId": "81c20500-efd8-4f9b-e462-bfe0b33ec751"
      },
      "execution_count": 6,
      "outputs": [
        {
          "output_type": "execute_result",
          "data": {
            "text/plain": [
              "-0.23914207238931945"
            ]
          },
          "metadata": {},
          "execution_count": 6
        }
      ]
    },
    {
      "cell_type": "code",
      "source": [
        "ids = []\n",
        "for i in range(10):\n",
        "  arr=[]\n",
        "  for j in range(data['train_vectors'].shape[0]):\n",
        "    arr.append((cosine(data['test1_vectors'][i], data['train_vectors'][j]),j))\n",
        "  arr.sort(reverse=True)\n",
        "  ids.append([i for c, i in arr[:3]])\n",
        "ids\n"
      ],
      "metadata": {
        "colab": {
          "base_uri": "https://localhost:8080/"
        },
        "id": "4fLxaKX98Tr4",
        "outputId": "c7e36858-0cc5-4c2e-b111-c2b0e5951ccf"
      },
      "execution_count": 7,
      "outputs": [
        {
          "output_type": "execute_result",
          "data": {
            "text/plain": [
              "[[346, 442, 158],\n",
              " [463, 97, 70],\n",
              " [240, 699, 480],\n",
              " [571, 977, 338],\n",
              " [593, 282, 584],\n",
              " [498, 835, 37],\n",
              " [736, 324, 918],\n",
              " [127, 382, 959],\n",
              " [7, 991, 141],\n",
              " [447, 847, 501]]"
            ]
          },
          "metadata": {},
          "execution_count": 7
        }
      ]
    },
    {
      "cell_type": "code",
      "source": [
        "i = 1\n",
        "for arr in ids:\n",
        "  for j in arr:\n",
        "    plt.subplot(10,3,i)\n",
        "    plt.imshow(data['train_images'][j])\n",
        "    plt.axis(\"off\")\n",
        "    i+=1\n",
        "  plt.show()\n"
      ],
      "metadata": {
        "colab": {
          "base_uri": "https://localhost:8080/",
          "height": 337
        },
        "id": "rqH6pa6P9rca",
        "outputId": "0dfd6839-cfa2-4abe-d889-8355bd72a83a"
      },
      "execution_count": 8,
      "outputs": [
        {
          "output_type": "display_data",
          "data": {
            "text/plain": [
              "<Figure size 432x288 with 3 Axes>"
            ],
            "image/png": "[encoded data removed]"
          },
          "metadata": {
            "needs_background": "light"
          }
        },
        {
          "output_type": "display_data",
          "data": {
            "text/plain": [
              "<Figure size 432x288 with 3 Axes>"
            ],
            "image/png": "[encoded data removed]"
          },
          "metadata": {
            "needs_background": "light"
          }
        },
        {
          "output_type": "display_data",
          "data": {
            "text/plain": [
              "<Figure size 432x288 with 3 Axes>"
            ],
            "image/png": "[encoded data removed]"
          },
          "metadata": {
            "needs_background": "light"
          }
        },
        {
          "output_type": "display_data",
          "data": {
            "text/plain": [
              "<Figure size 432x288 with 3 Axes>"
            ],
            "image/png": "[encoded data removed]"
          },
          "metadata": {
            "needs_background": "light"
          }
        },
        {
          "output_type": "display_data",
          "data": {
            "text/plain": [
              "<Figure size 432x288 with 3 Axes>"
            ],
            "image/png": "[encoded data removed]"
          },
          "metadata": {
            "needs_background": "light"
          }
        },
        {
          "output_type": "display_data",
          "data": {
            "text/plain": [
              "<Figure size 432x288 with 3 Axes>"
            ],
            "image/png": "[encoded data removed]"
          },
          "metadata": {
            "needs_background": "light"
          }
        },
        {
          "output_type": "display_data",
          "data": {
            "text/plain": [
              "<Figure size 432x288 with 3 Axes>"
            ],
            "image/png": "[encoded data removed]"
          },
          "metadata": {
            "needs_background": "light"
          }
        },
        {
          "output_type": "display_data",
          "data": {
            "text/plain": [
              "<Figure size 432x288 with 3 Axes>"
            ],
            "image/png": "[encoded data removed]"
          },
          "metadata": {
            "needs_background": "light"
          }
        },
        {
          "output_type": "display_data",
          "data": {
            "text/plain": [
              "<Figure size 432x288 with 3 Axes>"
            ],
            "image/png": "[encoded data removed]"
          },
          "metadata": {
            "needs_background": "light"
          }
        },
        {
          "output_type": "display_data",
          "data": {
            "text/plain": [
              "<Figure size 432x288 with 3 Axes>"
            ],
            "image/png": "[encoded data removed]"
          },
          "metadata": {
            "needs_background": "light"
          }
        }
      ]
    },
    {
      "cell_type": "code",
      "source": [
        "import torch\n",
        "import torch.nn as nn\n",
        "import torch.nn.functional as F\n",
        "\n",
        "x_train = torch.from_numpy(data[\"train_vectors\"])\n",
        "y_train = torch.from_numpy(data[\"train_labels\"])\n",
        "\n",
        "model = nn.Linear(256,3)\n",
        "\n",
        "optim = torch.optim.Adam(model.parameters(), lr = 0.01)\n",
        "\n",
        "for epoch in range(10001):\n",
        "  z = model(x_train)\n",
        "  cost = F.cross_entropy(z, y_train)\n",
        "\n",
        "  optim.zero_grad()\n",
        "  cost.backward()\n",
        "  optim.step()\n",
        "\n",
        "  with torch.no_grad():\n",
        "    if epoch%1000==0:\n",
        "      print(f\"epoch: {epoch}, cost: {cost.item()}\")"
      ],
      "metadata": {
        "id": "R-aZfayj_10h",
        "colab": {
          "base_uri": "https://localhost:8080/"
        },
        "outputId": "79579fa6-c346-4f8a-ea18-f88869841713"
      },
      "execution_count": 10,
      "outputs": [
        {
          "output_type": "stream",
          "name": "stdout",
          "text": [
            "epoch: 0, cost: 1.4067473411560059\n",
            "epoch: 1000, cost: 3.939226007787511e-05\n",
            "epoch: 2000, cost: 3.131042103632353e-05\n",
            "epoch: 3000, cost: 2.454920468153432e-05\n",
            "epoch: 4000, cost: 1.8129872842109762e-05\n",
            "epoch: 5000, cost: 1.2652843906835187e-05\n",
            "epoch: 6000, cost: 8.447143954981584e-06\n",
            "epoch: 7000, cost: 5.467550636240048e-06\n",
            "epoch: 8000, cost: 3.469396915534162e-06\n",
            "epoch: 9000, cost: 2.175445388274966e-06\n",
            "epoch: 10000, cost: 1.3544062085202313e-06\n"
          ]
        }
      ]
    },
    {
      "cell_type": "code",
      "source": [
        "test2 = torch.from_numpy(data['test2_vectors'])\n",
        "ans = torch.argmax(model(test2), dim=1)\n",
        "ans"
      ],
      "metadata": {
        "id": "HOZ92Pah_rs6",
        "colab": {
          "base_uri": "https://localhost:8080/"
        },
        "outputId": "616e1383-e03d-4b30-a634-8c75f74562d3"
      },
      "execution_count": 11,
      "outputs": [
        {
          "output_type": "execute_result",
          "data": {
            "text/plain": [
              "tensor([2, 1, 2, 2, 2, 0, 0, 0, 1, 1, 2, 2, 1, 1, 2, 1, 0, 0, 2, 0, 2, 1, 2, 0,\n",
              "        1, 1, 1, 1, 2, 2])"
            ]
          },
          "metadata": {},
          "execution_count": 11
        }
      ]
    }
  ]
}