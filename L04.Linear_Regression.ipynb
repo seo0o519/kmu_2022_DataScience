{
  "nbformat": 4,
  "nbformat_minor": 0,
  "metadata": {
    "colab": {
      "provenance": []
    },
    "kernelspec": {
      "name": "python3",
      "display_name": "Python 3"
    },
    "language_info": {
      "name": "python"
    }
  },
  "cells": [
    {
      "cell_type": "code",
      "execution_count": null,
      "metadata": {
        "id": "v8gDRc4KhRhL"
      },
      "outputs": [],
      "source": [
        "import torch"
      ]
    },
    {
      "cell_type": "code",
      "source": [
        "x= torch.tensor([[1,2,3], [4,5,6]])\n",
        "\n",
        "print(x)\n",
        "\n",
        "print(x.ndimension())\n",
        "print(x.ndim)\n",
        "\n",
        "print(x.size())\n",
        "print(x.shape)"
      ],
      "metadata": {
        "colab": {
          "base_uri": "https://localhost:8080/"
        },
        "id": "HQ2VkzyVhmHg",
        "outputId": "d67f922a-a370-4935-de5f-01cf836b4f45"
      },
      "execution_count": null,
      "outputs": [
        {
          "output_type": "stream",
          "name": "stdout",
          "text": [
            "tensor([[1, 2, 3],\n",
            "        [4, 5, 6]])\n",
            "2\n",
            "2\n",
            "torch.Size([2, 3])\n",
            "torch.Size([2, 3])\n"
          ]
        }
      ]
    },
    {
      "cell_type": "code",
      "source": [
        "print(x)\n",
        "print(x.shape)\n",
        "\n",
        "x1 = torch.unsqueeze(x, 0)\n",
        "x2 = torch.unsqueeze(x, 1)\n",
        "x3 = torch.unsqueeze(x, 2)\n",
        "print(x1)\n",
        "print(x2)\n",
        "print(x3)"
      ],
      "metadata": {
        "colab": {
          "base_uri": "https://localhost:8080/"
        },
        "id": "PgRc8-p8jZz0",
        "outputId": "d6b230d9-6f4f-4588-99dd-da8f0a808c3a"
      },
      "execution_count": null,
      "outputs": [
        {
          "output_type": "stream",
          "name": "stdout",
          "text": [
            "tensor([[1, 2, 3],\n",
            "        [4, 5, 6]])\n",
            "torch.Size([2, 3])\n",
            "tensor([[[1, 2, 3],\n",
            "         [4, 5, 6]]])\n",
            "tensor([[[1, 2, 3]],\n",
            "\n",
            "        [[4, 5, 6]]])\n",
            "tensor([[[1],\n",
            "         [2],\n",
            "         [3]],\n",
            "\n",
            "        [[4],\n",
            "         [5],\n",
            "         [6]]])\n"
          ]
        }
      ]
    },
    {
      "cell_type": "code",
      "source": [
        "x = torch.tensor([[1,2,3], [4,5,6], [7,8,9]])\n",
        "print(x.view(1,3,3))"
      ],
      "metadata": {
        "colab": {
          "base_uri": "https://localhost:8080/"
        },
        "id": "Dj4MlypMmjWc",
        "outputId": "6ea6b9e2-7863-4fac-d218-4b33affc2a16"
      },
      "execution_count": null,
      "outputs": [
        {
          "output_type": "stream",
          "name": "stdout",
          "text": [
            "tensor([[[1, 2, 3],\n",
            "         [4, 5, 6],\n",
            "         [7, 8, 9]]])\n"
          ]
        }
      ]
    },
    {
      "cell_type": "code",
      "source": [
        "x=torch.tensor([[1,2],[3,4], [5,6]], dtype=torch.float)\n",
        "\n",
        "w = torch.randn(2,1)\n",
        "b = torch.randn(1)\n",
        "\n",
        "result = torch.mm(x,w) + b\n",
        "print(result)"
      ],
      "metadata": {
        "colab": {
          "base_uri": "https://localhost:8080/"
        },
        "id": "hfZWdWPAmjeG",
        "outputId": "3828ddda-0a65-41c5-a683-cb79145c28be"
      },
      "execution_count": null,
      "outputs": [
        {
          "output_type": "stream",
          "name": "stdout",
          "text": [
            "tensor([[-0.5528],\n",
            "        [ 0.1560],\n",
            "        [ 0.8648]])\n"
          ]
        }
      ]
    },
    {
      "cell_type": "code",
      "source": [
        "x = torch.tensor(5.0, requires_grad=True)\n",
        "y = 3*x**3 + 4*x +7\n",
        "\n",
        "y.backward() # 미분값 \n",
        "print(x.grad)\n"
      ],
      "metadata": {
        "colab": {
          "base_uri": "https://localhost:8080/"
        },
        "id": "WqTNsjYApOdL",
        "outputId": "b4536d14-2e40-42ec-e761-8419c202f208"
      },
      "execution_count": null,
      "outputs": [
        {
          "output_type": "stream",
          "name": "stdout",
          "text": [
            "tensor(229.)\n"
          ]
        }
      ]
    },
    {
      "cell_type": "code",
      "source": [
        "x_train = torch.tensor([[1,2], [3,2], [3,7], [1,1], [1,0]], dtype=torch.float)\n",
        "y_train = torch.tensor([[4], [8], [23], [1], [-2]], dtype=torch.float)\n",
        "lr = 0.001\n",
        "w = torch.randn(2,1)\n",
        "b = torch.randn(1)\n",
        "for epoch in range(5000):\n",
        "  w.requires_grad_(True)\n",
        "  b.requires_grad_(True)\n",
        "  h = torch.mm(x_train, w) + b\n",
        "  cost = torch.mean((y_train - h) ** 2)\n",
        "\n",
        "  cost.backward()\n",
        "  with torch.no_grad():\n",
        "    w = w - lr * w.grad\n",
        "    b = b - lr * b.grad\n",
        "    if (epoch % 100 ==0):\n",
        "      print(w,b,cost)"
      ],
      "metadata": {
        "colab": {
          "base_uri": "https://localhost:8080/"
        },
        "id": "u_fpYnFVsUjO",
        "outputId": "b7cc11d3-4c32-4e60-ed52-f6e8d5b17a40"
      },
      "execution_count": null,
      "outputs": [
        {
          "output_type": "stream",
          "name": "stdout",
          "text": [
            "tensor([[-0.8306],\n",
            "        [ 1.7340]]) tensor([0.4663]) tensor(44.9856, grad_fn=<MeanBackward0>)\n",
            "tensor([[-0.1410],\n",
            "        [ 3.0672]]) tensor([0.5420]) tensor(4.6743, grad_fn=<MeanBackward0>)\n",
            "tensor([[-0.1179],\n",
            "        [ 3.1724]]) tensor([0.3531]) tensor(4.1680, grad_fn=<MeanBackward0>)\n",
            "tensor([[-0.1089],\n",
            "        [ 3.2137]]) tensor([0.1688]) tensor(3.8097, grad_fn=<MeanBackward0>)\n",
            "tensor([[-0.0895],\n",
            "        [ 3.2428]]) tensor([-0.0017]) tensor(3.5061, grad_fn=<MeanBackward0>)\n",
            "tensor([[-0.0611],\n",
            "        [ 3.2640]]) tensor([-0.1600]) tensor(3.2426, grad_fn=<MeanBackward0>)\n",
            "tensor([[-0.0259],\n",
            "        [ 3.2788]]) tensor([-0.3077]) tensor(3.0093, grad_fn=<MeanBackward0>)\n",
            "tensor([[0.0144],\n",
            "        [3.2885]]) tensor([-0.4463]) tensor(2.7998, grad_fn=<MeanBackward0>)\n",
            "tensor([[0.0584],\n",
            "        [3.2943]]) tensor([-0.5770]) tensor(2.6093, grad_fn=<MeanBackward0>)\n",
            "tensor([[0.1050],\n",
            "        [3.2969]]) tensor([-0.7005]) tensor(2.4347, grad_fn=<MeanBackward0>)\n",
            "tensor([[0.1534],\n",
            "        [3.2971]]) tensor([-0.8177]) tensor(2.2737, grad_fn=<MeanBackward0>)\n",
            "tensor([[0.2028],\n",
            "        [3.2954]]) tensor([-0.9293]) tensor(2.1246, grad_fn=<MeanBackward0>)\n",
            "tensor([[0.2527],\n",
            "        [3.2921]]) tensor([-1.0358]) tensor(1.9862, grad_fn=<MeanBackward0>)\n",
            "tensor([[0.3027],\n",
            "        [3.2878]]) tensor([-1.1376]) tensor(1.8572, grad_fn=<MeanBackward0>)\n",
            "tensor([[0.3525],\n",
            "        [3.2825]]) tensor([-1.2351]) tensor(1.7370, grad_fn=<MeanBackward0>)\n",
            "tensor([[0.4017],\n",
            "        [3.2767]]) tensor([-1.3287]) tensor(1.6248, grad_fn=<MeanBackward0>)\n",
            "tensor([[0.4502],\n",
            "        [3.2703]]) tensor([-1.4186]) tensor(1.5200, grad_fn=<MeanBackward0>)\n",
            "tensor([[0.4979],\n",
            "        [3.2637]]) tensor([-1.5051]) tensor(1.4220, grad_fn=<MeanBackward0>)\n",
            "tensor([[0.5446],\n",
            "        [3.2568]]) tensor([-1.5883]) tensor(1.3304, grad_fn=<MeanBackward0>)\n",
            "tensor([[0.5902],\n",
            "        [3.2498]]) tensor([-1.6685]) tensor(1.2448, grad_fn=<MeanBackward0>)\n",
            "tensor([[0.6347],\n",
            "        [3.2428]]) tensor([-1.7458]) tensor(1.1647, grad_fn=<MeanBackward0>)\n",
            "tensor([[0.6781],\n",
            "        [3.2358]]) tensor([-1.8203]) tensor(1.0897, grad_fn=<MeanBackward0>)\n",
            "tensor([[0.7203],\n",
            "        [3.2288]]) tensor([-1.8923]) tensor(1.0196, grad_fn=<MeanBackward0>)\n",
            "tensor([[0.7613],\n",
            "        [3.2220]]) tensor([-1.9618]) tensor(0.9540, grad_fn=<MeanBackward0>)\n",
            "tensor([[0.8011],\n",
            "        [3.2152]]) tensor([-2.0288]) tensor(0.8927, grad_fn=<MeanBackward0>)\n",
            "tensor([[0.8398],\n",
            "        [3.2085]]) tensor([-2.0936]) tensor(0.8353, grad_fn=<MeanBackward0>)\n",
            "tensor([[0.8772],\n",
            "        [3.2020]]) tensor([-2.1563]) tensor(0.7815, grad_fn=<MeanBackward0>)\n",
            "tensor([[0.9136],\n",
            "        [3.1957]]) tensor([-2.2168]) tensor(0.7313, grad_fn=<MeanBackward0>)\n",
            "tensor([[0.9488],\n",
            "        [3.1895]]) tensor([-2.2753]) tensor(0.6842, grad_fn=<MeanBackward0>)\n",
            "tensor([[0.9830],\n",
            "        [3.1835]]) tensor([-2.3318]) tensor(0.6402, grad_fn=<MeanBackward0>)\n",
            "tensor([[1.0160],\n",
            "        [3.1776]]) tensor([-2.3864]) tensor(0.5991, grad_fn=<MeanBackward0>)\n",
            "tensor([[1.0481],\n",
            "        [3.1719]]) tensor([-2.4393]) tensor(0.5605, grad_fn=<MeanBackward0>)\n",
            "tensor([[1.0791],\n",
            "        [3.1664]]) tensor([-2.4904]) tensor(0.5245, grad_fn=<MeanBackward0>)\n",
            "tensor([[1.1091],\n",
            "        [3.1610]]) tensor([-2.5398]) tensor(0.4908, grad_fn=<MeanBackward0>)\n",
            "tensor([[1.1381],\n",
            "        [3.1558]]) tensor([-2.5876]) tensor(0.4592, grad_fn=<MeanBackward0>)\n",
            "tensor([[1.1662],\n",
            "        [3.1507]]) tensor([-2.6338]) tensor(0.4297, grad_fn=<MeanBackward0>)\n",
            "tensor([[1.1934],\n",
            "        [3.1459]]) tensor([-2.6785]) tensor(0.4020, grad_fn=<MeanBackward0>)\n",
            "tensor([[1.2197],\n",
            "        [3.1411]]) tensor([-2.7217]) tensor(0.3762, grad_fn=<MeanBackward0>)\n",
            "tensor([[1.2452],\n",
            "        [3.1365]]) tensor([-2.7635]) tensor(0.3520, grad_fn=<MeanBackward0>)\n",
            "tensor([[1.2699],\n",
            "        [3.1321]]) tensor([-2.8040]) tensor(0.3294, grad_fn=<MeanBackward0>)\n",
            "tensor([[1.2937],\n",
            "        [3.1278]]) tensor([-2.8431]) tensor(0.3082, grad_fn=<MeanBackward0>)\n",
            "tensor([[1.3168],\n",
            "        [3.1236]]) tensor([-2.8809]) tensor(0.2884, grad_fn=<MeanBackward0>)\n",
            "tensor([[1.3391],\n",
            "        [3.1196]]) tensor([-2.9175]) tensor(0.2698, grad_fn=<MeanBackward0>)\n",
            "tensor([[1.3607],\n",
            "        [3.1157]]) tensor([-2.9529]) tensor(0.2525, grad_fn=<MeanBackward0>)\n",
            "tensor([[1.3816],\n",
            "        [3.1119]]) tensor([-2.9871]) tensor(0.2362, grad_fn=<MeanBackward0>)\n",
            "tensor([[1.4018],\n",
            "        [3.1083]]) tensor([-3.0202]) tensor(0.2210, grad_fn=<MeanBackward0>)\n",
            "tensor([[1.4213],\n",
            "        [3.1047]]) tensor([-3.0523]) tensor(0.2068, grad_fn=<MeanBackward0>)\n",
            "tensor([[1.4403],\n",
            "        [3.1013]]) tensor([-3.0833]) tensor(0.1935, grad_fn=<MeanBackward0>)\n",
            "tensor([[1.4585],\n",
            "        [3.0980]]) tensor([-3.1132]) tensor(0.1811, grad_fn=<MeanBackward0>)\n",
            "tensor([[1.4762],\n",
            "        [3.0948]]) tensor([-3.1422]) tensor(0.1694, grad_fn=<MeanBackward0>)\n"
          ]
        }
      ]
    },
    {
      "cell_type": "code",
      "source": [
        "x_test = torch.tensor([[5,10]], dtype=torch.float)\n",
        "h_test = torch.mm(x_test, w) +b\n"
      ],
      "metadata": {
        "id": "JXRI98zEwIes"
      },
      "execution_count": null,
      "outputs": []
    },
    {
      "cell_type": "code",
      "source": [
        "from sklearn.linear_model import LinearRegression\n",
        "x = [[1,2], [3,2], [3,7], [1,1], [1,0]]\n",
        "y = [[4], [8], [23], [1], [-2]]\n",
        "\n",
        "model = LinearRegression() # 모델 생성\n",
        "model.fit(x, y) # 학습 (피팅)\n"
      ],
      "metadata": {
        "colab": {
          "base_uri": "https://localhost:8080/"
        },
        "id": "gE7f94cYw604",
        "outputId": "43ace715-19f8-490d-d67d-1140342ffdc9"
      },
      "execution_count": null,
      "outputs": [
        {
          "output_type": "stream",
          "name": "stdout",
          "text": [
            "LinearRegression()\n"
          ]
        }
      ]
    },
    {
      "cell_type": "code",
      "source": [
        "print(model.coef_, model.intercept_)\n",
        "print(model.predict([[5,10]]))"
      ],
      "metadata": {
        "colab": {
          "base_uri": "https://localhost:8080/"
        },
        "id": "YSMfgV75xT5A",
        "outputId": "183bf041-0e6f-4297-8a4f-b1ab2e2fc8ae"
      },
      "execution_count": null,
      "outputs": [
        {
          "output_type": "stream",
          "name": "stdout",
          "text": [
            "[[2. 3.]] [-4.]\n",
            "[[36.]]\n"
          ]
        }
      ]
    }
  ]
}